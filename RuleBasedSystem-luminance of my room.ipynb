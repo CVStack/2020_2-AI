{
 "cells": [
  {
   "cell_type": "code",
   "execution_count": 86,
   "metadata": {},
   "outputs": [],
   "source": [
    "from durable.lang import ruleset, when_all, m, post, _main_host\n",
    "\n",
    "if _main_host is not None:\n",
    "    _main_host._ruleset_directory.clear()\n",
    "    \n",
    "with ruleset('lmr'):\n",
    "    \n",
    "    @when_all((m.activated_person == 'None')) #활동하는 사람이 없으면 모든 등을 끈다\n",
    "    def trun_off_auto(c):\n",
    "        print('자동으로 모든 등을 끈다.')\n",
    "    \n",
    "    @when_all((m.activated_person == 'Yes')  & (m.time == '새벽') & (m.act == '공부') & (m.mode == 0))\n",
    "    def trun_on_low_passive(c): #절약모드가 아닌상태에서 새벽에 공부를 할때는 강한 세기로 책상등을 킨다.\n",
    "        print('자동으로 강한 세기로 책상등을 킨다.')\n",
    "        \n",
    "    @when_all((m.activated_person == 'Yes')  & (m.time == '새벽') & (m.act == '공부'))\n",
    "    def trun_on_low_passive(c): #절약모드상태에서 새벽에 공부를 할때는 강한 세기로 책상등을 킨다.\n",
    "        print('자동으로 중간 세기로 책상등을 킨다')\n",
    "        \n",
    "    @when_all((m.activated_person == 'Yes') & (m.time == '새벽')) #활동하는 사람이 있는데 새벽이면 약한 세기 전등을 켜두되는지 물어본다.\n",
    "    def trun_on_low_passive(c):\n",
    "        print('약한 세기로 거실등을 켜두 되는지 물어본다.')\n",
    "        \n",
    "    \n",
    "    @when_all((m.activated_person == 'Yes')  & (m.weather == '맑음') & (m.time == '오후') & (m.mode == 0))\n",
    "    def trun_on_low_passive(c): #절약상태 아닌상태에서 오후에 맑으면 중간세기로 거실등을 킨다.\n",
    "        print('자동으로 중간 세기로 거실등을 킨다.')\n",
    "    \n",
    "    @when_all((m.activated_person == 'Yes')  & (m.weather == '흐림') & (m.act == '공부'))\n",
    "    def trun_on_low_passive(c): # 흐린날씨게 공부를 하면 강한세기로 책상등을 킨다.\n",
    "        print('자동으로 강한 세기로 책상등을 킨다.')\n",
    "        \n",
    "    @when_all((m.activated_person == 'Yes')  & (m.weather == '흐림'))\n",
    "    def trun_on_low_passive(c): #날씨가 흐리면 중간세기로 거실등을 킨다.\n",
    "        print('자동으로 중간 세기로 거실등을 킨다.')\n",
    "        \n",
    "    @when_all((m.activated_person == 'Yes') & (m.act == '공부') & (m.mode == 1)) \n",
    "    def trun_on_low_passive(c): #절약모드에서 공부를 하면 중간세기로 책상등을 킨다.\n",
    "        print('자동으로 중간 세기로 책상등을 킨다.')\n",
    "        \n",
    "    @when_all((m.activated_person == 'Yes') & (m.act == '공부')) #공부하는 사람이 있으면 중간 세기로 책상등을 킨다.\n",
    "    def trun_on_low_passive(c):\n",
    "        print('자동으로 중간 세기로 책상등을 킨다.')\n",
    "    \n",
    "    @when_all((m.activated_person == 'Yes') & (m.mode == 1)) #절약모드에서 활동하는 사람이 있으면 매우 약한 세기로 거실 전등을 킨다.\n",
    "    def trun_on_low_passive(c):\n",
    "        print('자동으로 매우 약한 세기로 거실등을 킨다.')\n",
    "        \n",
    "    @when_all((m.activated_person == 'Yes')) #활동하는 사람이 있으면 무조건 약한 세기로 거실 전등을 킨다.\n",
    "    def trun_on_low_passive(c):\n",
    "        print('자동으로 약한 세기로 거실등을 킨다.')\n",
    "    \n",
    "    \n",
    " \n",
    "        \n",
    "   "
   ]
  },
  {
   "cell_type": "code",
   "execution_count": 87,
   "metadata": {},
   "outputs": [
    {
     "name": "stdout",
     "output_type": "stream",
     "text": [
      "자동으로 모든 등을 끈다.\n",
      "자동으로 중간 세기로 책상등을 킨다.\n",
      "자동으로 중간 세기로 책상등을 킨다\n",
      "자동으로 중간 세기로 책상등을 킨다.\n",
      "자동으로 중간 세기로 거실등을 킨다.\n",
      "자동으로 약한 세기로 거실등을 킨다.\n"
     ]
    },
    {
     "data": {
      "text/plain": [
       "{'sid': '0', 'id': 'sid-0', '$s': 1}"
      ]
     },
     "execution_count": 87,
     "metadata": {},
     "output_type": "execute_result"
    }
   ],
   "source": [
    "post('lmr', {'activated_person' : 'None'})\n",
    "post('lmr', {'activated_person' : 'Yes', 'act' : '공부', 'mode' : 1})\n",
    "post('lmr', {'activated_person' : 'Yes', 'time' : '새벽','act' : '공부'})\n",
    "post('lmr', {'activated_person' : 'Yes','act' : '공부'})\n",
    "post('lmr', {'activated_person' : 'Yes','weather' : '흐림', 'act' : '휴식'})\n",
    "post('lmr', {'activated_person' : 'Yes','time' : '오후'})"
   ]
  },
  {
   "cell_type": "code",
   "execution_count": null,
   "metadata": {},
   "outputs": [],
   "source": []
  }
 ],
 "metadata": {
  "kernelspec": {
   "display_name": "Python 3",
   "language": "python",
   "name": "python3"
  },
  "language_info": {
   "codemirror_mode": {
    "name": "ipython",
    "version": 3
   },
   "file_extension": ".py",
   "mimetype": "text/x-python",
   "name": "python",
   "nbconvert_exporter": "python",
   "pygments_lexer": "ipython3",
   "version": "3.6.8"
  }
 },
 "nbformat": 4,
 "nbformat_minor": 2
}
