{
 "cells": [
  {
   "cell_type": "code",
   "execution_count": 14,
   "metadata": {},
   "outputs": [
    {
     "name": "stdout",
     "output_type": "stream",
     "text": [
      "[X3 < 3.000]\n",
      " [X1 < 5.100]\n",
      "  [X1 < 4.900]\n",
      "[0.0]\n",
      "[0.0]\n",
      "  [X1 < 5.100]\n",
      "[0.0]\n",
      "[0.0]\n",
      " [X4 < 1.800]\n",
      "  [X3 < 5.000]\n",
      "[1.0]\n",
      "[2.0]\n",
      "  [X3 < 4.900]\n",
      "[2.0]\n",
      "[2.0]\n"
     ]
    }
   ],
   "source": [
    "from sklearn import datasets\n",
    "import numpy as np\n",
    "\n",
    "def test_split(index, value, dataset): #split data\n",
    "    left, right = list(), list()\n",
    "    for row in dataset: #value 를 기준으로 left, right로 분할\n",
    "        if row[index] < value :\n",
    "            left.append(row)\n",
    "        else:\n",
    "            right.append(row)\n",
    "    return left, right\n",
    "\n",
    "def gini_index(groups, classes): #gini 계수\n",
    "    n_instances = float(sum([len(group) for group in groups])) #total element count\n",
    "    gini = 0.0\n",
    "    for group in groups: #각 그룹은 기준 대로 나눠짐\n",
    "        size = float(len(group))\n",
    "        if size == 0:\n",
    "            continue\n",
    "        score = 0.0\n",
    "        for class_val in classes:\n",
    "            p = [row[-1] for row in group].count(class_val) / size #각 group에 label별 분포도 계산\n",
    "            score += p * p # 1 - sum(p(i)^ 2) = sum(i !=j ,p(i)p(j)) \n",
    "        gini += (1.0 - score) * (size / n_instances) # 각 그룹 지니계수 가중 평균 \n",
    "    return gini\n",
    "\n",
    "def get_split(dataset):\n",
    "    class_values = list(set(row[-1] for row in dataset)) #get target type\n",
    "    \n",
    "    b_index, b_value, b_score, b_groups = 999, 999, 999, None\n",
    "    for index in range(len(dataset[0]) - 1): #data의 각 col 별로 실행\n",
    "        for row in dataset:\n",
    "            groups = test_split(index, row[index], dataset) #임시 값을 기준으로 나눠봄\n",
    "            gini = gini_index(groups, class_values) # 지니 계수 계산\n",
    "            if gini < b_score : #gini가 더 작을시 update\n",
    "                b_index, b_value, b_score, b_groups = index, row[index], gini, groups\n",
    "    \n",
    "    return {'index' : b_index, 'value' : b_value, 'groups' : b_groups}\n",
    "\n",
    "def split(node, max_depth, min_size, depth):\n",
    "    left, right = node['groups']\n",
    "    del(node['groups'])\n",
    "    \n",
    "    if not left or not right:\n",
    "        node['left'] = node['right'] = to_terminal(left + right)\n",
    "        return\n",
    "    if depth >= max_depth: #일정 깊이의 depth 이상일때 분할 stop\n",
    "        node['left'], node['right'] = to_terminal(left), to_terminal(right)\n",
    "        return\n",
    "    if len(left) <= min_size: #분할 후 한 그룹의 갯수가 일정 갯수 미만이면 stop\n",
    "        node['left'] = to_terminal(left)\n",
    "    else:\n",
    "        node['left'] = get_split(left) #re split\n",
    "        split(node['left'], max_depth, min_size, depth + 1)\n",
    "    \n",
    "    if len(right) <= min_size:\n",
    "        node['right'] = to_terminal(right)\n",
    "    else:\n",
    "        node['right'] = get_split(right)\n",
    "        split(node['right'], max_depth, min_size, depth + 1)\n",
    "\n",
    "def to_terminal(group):\n",
    "    outcomes = [row[-1] for row in group]\n",
    "    return max(set(outcomes), key = outcomes.count) #제일 많이 차지하는 label return\n",
    "\n",
    "def build_tree(train, max_depth, min_size):\n",
    "    root = get_split(train)\n",
    "    split(root, max_depth, min_size, 1)\n",
    "    return root\n",
    "\n",
    "def print_tree(node, depth = 0):\n",
    "    if isinstance(node, dict):\n",
    "        print(\"%s[X%d < %.3f]\" % ((depth * ' ', (node['index'] + 1), node['value'])))\n",
    "        print_tree(node['left'], depth + 1)\n",
    "        print_tree(node['right'], depth + 1)\n",
    "    else:\n",
    "        print('%s[%s]' % ((depth * '', node)))\n",
    "\n",
    "iris = datasets.load_iris()\n",
    "dataset = np.c_[iris.data, iris.target]\n",
    "\n",
    "tree = build_tree(dataset, 3, 1)\n",
    "print_tree(tree)"
   ]
  },
  {
   "cell_type": "code",
   "execution_count": 21,
   "metadata": {},
   "outputs": [
    {
     "name": "stdout",
     "output_type": "stream",
     "text": [
      "      CRIM    ZN  INDUS  CHAS    NOX     RM   AGE     DIS  RAD    TAX  \\\n",
      "0  0.00632  18.0   2.31     0  0.538  6.575  65.2  4.0900    1  296.0   \n",
      "1  0.02731   0.0   7.07     0  0.469  6.421  78.9  4.9671    2  242.0   \n",
      "2  0.02729   0.0   7.07     0  0.469  7.185  61.1  4.9671    2  242.0   \n",
      "3  0.03237   0.0   2.18     0  0.458  6.998  45.8  6.0622    3  222.0   \n",
      "4  0.06905   0.0   2.18     0  0.458  7.147  54.2  6.0622    3  222.0   \n",
      "\n",
      "   PTRATIO       B  LSTAT  MEDV  \n",
      "0     15.3  396.90   4.98  24.0  \n",
      "1     17.8  396.90   9.14  21.6  \n",
      "2     17.8  392.83   4.03  34.7  \n",
      "3     18.7  394.63   2.94  33.4  \n",
      "4     18.7  396.90   5.33  36.2  \n"
     ]
    },
    {
     "data": {
      "image/png": "[encoded data removed]",
      "text/plain": [
       "<Figure size 432x288 with 1 Axes>"
      ]
     },
     "metadata": {
      "needs_background": "light"
     },
     "output_type": "display_data"
    }
   ],
   "source": [
    "from sklearn.tree import DecisionTreeRegressor\n",
    "import matplotlib.pyplot as plt\n",
    "import pandas as pd\n",
    "df = pd.read_csv('housing.data', header = None, sep = '\\s+')\n",
    "df.columns = ['CRIM', 'ZN', 'INDUS', 'CHAS', 'NOX', 'RM', 'AGE',\n",
    "             'DIS', 'RAD', 'TAX', 'PTRATIO', 'B', 'LSTAT', 'MEDV']\n",
    "print(df.head())\n",
    "\n",
    "X = df[['LSTAT']].values\n",
    "y = df[['MEDV']].values\n",
    "\n",
    "tree = DecisionTreeRegressor(max_depth = 3) #회귀를 위한 결정트리 모델 생성, 최대 깊이 = 3\n",
    "tree.fit(X, y) # 학습\n",
    "\n",
    "#draw\n",
    "sort_idx = X.flatten().argsort()\n",
    "plt.scatter(X[sort_idx], y[sort_idx])\n",
    "plt.plot(X[sort_idx], tree.predict(X[sort_idx]), color = 'red', linewidth = 2)\n",
    "plt.xlabel('LSTAT(% Lower status of the pop)')\n",
    "plt.ylabel('MEDV(Price in $ 10000)')\n",
    "plt.show()"
   ]
  },
  {
   "cell_type": "code",
   "execution_count": null,
   "metadata": {},
   "outputs": [],
   "source": []
  }
 ],
 "metadata": {
  "kernelspec": {
   "display_name": "Python 3",
   "language": "python",
   "name": "python3"
  },
  "language_info": {
   "codemirror_mode": {
    "name": "ipython",
    "version": 3
   },
   "file_extension": ".py",
   "mimetype": "text/x-python",
   "name": "python",
   "nbconvert_exporter": "python",
   "pygments_lexer": "ipython3",
   "version": "3.6.8"
  }
 },
 "nbformat": 4,
 "nbformat_minor": 2
}
