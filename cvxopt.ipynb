{
 "cells": [
  {
   "cell_type": "code",
   "execution_count": 2,
   "metadata": {},
   "outputs": [
    {
     "name": "stdout",
     "output_type": "stream",
     "text": [
      "     pcost       dcost       gap    pres   dres\n",
      " 0:  1.8889e+00  7.7778e-01  1e+00  2e-16  2e+00\n",
      " 1:  1.8769e+00  1.8320e+00  4e-02  1e-16  6e-02\n",
      " 2:  1.8750e+00  1.8739e+00  1e-03  1e-16  5e-04\n",
      " 3:  1.8750e+00  1.8750e+00  1e-05  0e+00  5e-06\n",
      " 4:  1.8750e+00  1.8750e+00  1e-07  2e-16  5e-08\n",
      "Optimal solution found.\n",
      "해\n",
      " x_1 =  0.2500000952702475\n",
      "x_2 =  0.7499999047297525\n"
     ]
    }
   ],
   "source": [
    "from cvxopt import matrix, solvers\n",
    "\n",
    "H = matrix([\n",
    "    [4., 1.],\n",
    "    [1., 2.]\n",
    "])\n",
    "\n",
    "f = matrix([1.0, 1.0])\n",
    "A = matrix([[-1.0, 0.0], [0.0, -1.0]])\n",
    "a = matrix([0.0, 0.0])\n",
    "B = matrix([1.0, 1.0], (1,2)) #shape \n",
    "b = matrix(1.0)\n",
    "\n",
    "sol = solvers.qp(H, f, A, a, B, b)\n",
    "print('해\\n', 'x_1 = ', sol['x'][0])\n",
    "print('x_2 = ', sol['x'][1])"
   ]
  },
  {
   "cell_type": "code",
   "execution_count": null,
   "metadata": {},
   "outputs": [],
   "source": []
  }
 ],
 "metadata": {
  "kernelspec": {
   "display_name": "Python 3",
   "language": "python",
   "name": "python3"
  },
  "language_info": {
   "codemirror_mode": {
    "name": "ipython",
    "version": 3
   },
   "file_extension": ".py",
   "mimetype": "text/x-python",
   "name": "python",
   "nbconvert_exporter": "python",
   "pygments_lexer": "ipython3",
   "version": "3.6.8"
  }
 },
 "nbformat": 4,
 "nbformat_minor": 2
}
