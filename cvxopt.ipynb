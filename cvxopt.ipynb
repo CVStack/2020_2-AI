{
 "cells": [
  {
   "cell_type": "code",
   "execution_count": 10,
   "metadata": {},
   "outputs": [
    {
     "name": "stdout",
     "output_type": "stream",
     "text": [
      "     pcost       dcost       gap    pres   dres\n",
      " 0:  8.8889e-01 -2.2222e-01  1e+00  0e+00  2e+00\n",
      " 1:  8.7693e-01  8.3198e-01  4e-02  2e-16  8e-02\n",
      " 2:  8.7500e-01  8.7395e-01  1e-03  1e-16  8e-04\n",
      " 3:  8.7500e-01  8.7499e-01  1e-05  3e-16  8e-06\n",
      " 4:  8.7500e-01  8.7500e-01  1e-07  2e-16  8e-08\n",
      "Optimal solution found.\n",
      "해\n",
      " x_1 =  0.2500000952702475\n",
      "x_2 =  0.7499999047297524\n"
     ]
    }
   ],
   "source": [
    "from cvxopt import matrix, solvers\n",
    "\n",
    "H = 2 * matrix([\n",
    "    [4., 1.],\n",
    "    [1., 2.]\n",
    "])\n",
    "\n",
    "f = matrix([0.0, 0.0])\n",
    "A = matrix([[-1.0, 0.0], [0.0, -1.0]])\n",
    "a = matrix([0.0, 0.0])\n",
    "B = matrix([1.0, 1.0], (1,2)) #shape \n",
    "b = matrix(1.0)\n",
    "\n",
    "sol = solvers.qp(H, f, A, a, B, b)\n",
    "print('해\\n', 'x_1 = ', sol['x'][0])\n",
    "print('x_2 = ', sol['x'][1])"
   ]
  },
  {
   "cell_type": "code",
   "execution_count": 12,
   "metadata": {},
   "outputs": [
    {
     "name": "stdout",
     "output_type": "stream",
     "text": [
      "[ 8.00e+00  2.00e+00]\n",
      "[ 2.00e+00  4.00e+00]\n",
      "\n"
     ]
    }
   ],
   "source": [
    "H = 2 * matrix([\n",
    "    [4., 1.],\n",
    "    [1., 2.]\n",
    "])\n",
    "\n",
    "print(H)"
   ]
  },
  {
   "cell_type": "code",
   "execution_count": null,
   "metadata": {},
   "outputs": [],
   "source": []
  }
 ],
 "metadata": {
  "kernelspec": {
   "display_name": "Python 3",
   "language": "python",
   "name": "python3"
  },
  "language_info": {
   "codemirror_mode": {
    "name": "ipython",
    "version": 3
   },
   "file_extension": ".py",
   "mimetype": "text/x-python",
   "name": "python",
   "nbconvert_exporter": "python",
   "pygments_lexer": "ipython3",
   "version": "3.6.8"
  }
 },
 "nbformat": 4,
 "nbformat_minor": 2
}
