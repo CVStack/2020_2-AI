{
 "cells": [
  {
   "cell_type": "code",
   "execution_count": null,
   "metadata": {},
   "outputs": [],
   "source": [
    "from cvxopt import matrix, solvers\n",
    "\n",
    "H = matrix([\n",
    "    [4., 1.],\n",
    "    [1., 2.]\n",
    "])\n",
    "\n",
    "f = matrix([0.0, 0.0])\n",
    "A = matrix([[-1.0, 0.0], [0.0, -1.0]])\n",
    "a = matrix([0.0, 0.0])\n",
    "B = matrix([1.0, 1.0], (1,2)) #shape \n",
    "b = matrix(1.0)\n",
    "\n",
    "sol = solvers.qp(H, f, A, a, B, b)\n",
    "print('해\\n', 'x_1 = ', sol['x'][0])\n",
    "print('x_2 = ', sol['x'][1])"
   ]
  }
 ],
 "metadata": {
  "kernelspec": {
   "display_name": "Python 3",
   "language": "python",
   "name": "python3"
  },
  "language_info": {
   "codemirror_mode": {
    "name": "ipython",
    "version": 3
   },
   "file_extension": ".py",
   "mimetype": "text/x-python",
   "name": "python",
   "nbconvert_exporter": "python",
   "pygments_lexer": "ipython3",
   "version": "3.6.8"
  }
 },
 "nbformat": 4,
 "nbformat_minor": 2
}
