{
 "cells": [
  {
   "cell_type": "code",
   "execution_count": 2,
   "metadata": {},
   "outputs": [],
   "source": [
    "import pandas as pd\n",
    "import numpy as np\n",
    "import matplotlib.pyplot as plt\n"
   ]
  },
  {
   "cell_type": "code",
   "execution_count": 3,
   "metadata": {},
   "outputs": [
    {
     "data": {
      "image/png": "[encoded data removed]",
      "text/plain": [
       "<Figure size 432x288 with 1 Axes>"
      ]
     },
     "metadata": {
      "needs_background": "light"
     },
     "output_type": "display_data"
    }
   ],
   "source": [
    "from sklearn.linear_model import LinearRegression\n",
    "\n",
    "data = np.array([\n",
    "    [30, 12],[150, 25],[300, 25],[400, 48],[130, 21],\n",
    "    [240, 33], [350, 46], [200, 41], [100, 20], [110, 23],\n",
    "    [190, 32], [120, 24], [130, 19], [270, 37], [255, 24]\n",
    "])\n",
    "\n",
    "plt.scatter(data[:, 0], data[:, 1]) #산포도 \n",
    "plt.title(\"Linear Regression\")\n",
    "plt.xlabel(\"Delivery Distance\")\n",
    "plt.ylabel(\"Delivery Time \")\n",
    "plt.axis([0, 420, 0 ,50])\n",
    "\n",
    "x = data[:, 0].reshape(-1, 1) #input\n",
    "y = data[:, 1].reshape(-1, 1) #output\n",
    "\n",
    "model = LinearRegression()\n",
    "model.fit(x, y) #선형 모델 학습\n",
    "\n",
    "y_pred = model.predict(x)\n",
    "plt.plot(x, y_pred, color = 'Y')\n",
    "plt.show()"
   ]
  },
  {
   "cell_type": "code",
   "execution_count": 5,
   "metadata": {},
   "outputs": [
    {
     "name": "stderr",
     "output_type": "stream",
     "text": [
      "/opt/conda/lib/python3.6/site-packages/sklearn/utils/validation.py:595: DataConversionWarning: Data with input dtype int64 was converted to float64 by StandardScaler.\n",
      "  warnings.warn(msg, DataConversionWarning)\n",
      "/opt/conda/lib/python3.6/site-packages/sklearn/utils/validation.py:595: DataConversionWarning: Data with input dtype int64 was converted to float64 by StandardScaler.\n",
      "  warnings.warn(msg, DataConversionWarning)\n",
      "/opt/conda/lib/python3.6/site-packages/sklearn/utils/validation.py:595: DataConversionWarning: Data with input dtype int64 was converted to float64 by StandardScaler.\n",
      "  warnings.warn(msg, DataConversionWarning)\n",
      "/opt/conda/lib/python3.6/site-packages/sklearn/linear_model/logistic.py:433: FutureWarning: Default solver will be changed to 'lbfgs' in 0.22. Specify a solver to silence this warning.\n",
      "  FutureWarning)\n",
      "'c' argument looks like a single numeric RGB or RGBA sequence, which should be avoided as value-mapping will have precedence in case its length matches with 'x' & 'y'.  Please use a 2-D array with a single row if you really want to specify the same RGB or RGBA value for all points.\n",
      "'c' argument looks like a single numeric RGB or RGBA sequence, which should be avoided as value-mapping will have precedence in case its length matches with 'x' & 'y'.  Please use a 2-D array with a single row if you really want to specify the same RGB or RGBA value for all points.\n"
     ]
    },
    {
     "name": "stdout",
     "output_type": "stream",
     "text": [
      "[[ 0.58164944 -0.88670699]\n",
      " [-0.60673761  1.46173768]\n",
      " [-0.01254409 -0.5677824 ]\n",
      " [-0.60673761  1.89663484]\n",
      " [ 1.37390747 -1.40858358]\n",
      " [ 1.47293972  0.99784738]\n",
      " [ 0.08648817 -0.79972756]\n",
      " [-0.01254409 -0.24885782]\n",
      " [-0.21060859 -0.5677824 ]\n",
      " [-0.21060859 -0.19087153]]\n",
      "confusion matrix : \n",
      " [[65  3]\n",
      " [ 8 24]]\n",
      "정확도 :  0.89\n"
     ]
    },
    {
     "data": {
      "image/png": "[encoded data removed]",
      "text/plain": [
       "<Figure size 432x288 with 1 Axes>"
      ]
     },
     "metadata": {
      "needs_background": "light"
     },
     "output_type": "display_data"
    }
   ],
   "source": [
    "dataset = pd.read_csv('User_Data.csv') \n",
    "\n",
    "x = dataset.iloc[:, [2,3]].values #Get Train data\n",
    "y = dataset.iloc[:, 4].values #Get Train Label\n",
    "\n",
    "from sklearn.model_selection import train_test_split\n",
    "\n",
    "xtrain, xtest, ytrain, ytest = train_test_split(x,y, test_size = 0.25, random_state = 0)\n",
    "#split dataset into train and test\n",
    "\n",
    "from sklearn.preprocessing import StandardScaler\n",
    "\n",
    "sc_x = StandardScaler() #정규화\n",
    "xtrain = sc_x.fit_transform(xtrain) #train data 정규화\n",
    "xtest = sc_x.transform(xtest) #test data 정규화\n",
    "\n",
    "print(xtrain[0:10, :])\n",
    "\n",
    "from sklearn.linear_model import LogisticRegression\n",
    "classifer = LogisticRegression(random_state = 0)\n",
    "classifer.fit(xtrain, ytrain) #training\n",
    "y_pred = classifer.predict(xtest) # 학습모델 테스트\n",
    "\n",
    "from sklearn.metrics import confusion_matrix\n",
    "cm = confusion_matrix(ytest, y_pred) #혼동 행렬생성 --> 모델 평가시 사용\n",
    "print(\"confusion matrix : \\n\", cm)\n",
    "\n",
    "from sklearn.metrics import accuracy_score\n",
    "print(\"정확도 : \", accuracy_score(ytest, y_pred)) #정확도 계산\n",
    "\n",
    "#draw\n",
    "from matplotlib.colors import ListedColormap\n",
    "x_set, y_set = xtest, ytest\n",
    "x1, x2 = np.meshgrid(np.arange(start = x_set[:, 0].min() - 1, #랜덤으로 좌표위에 직사각형 격자를 만듬. \n",
    "                              stop = x_set[:, 0].max() + 1, step = 0.01),\n",
    "                    np.arange(start = x_set[:, 1].min() - 1,\n",
    "                              stop = x_set[:, 1].max() + 1, step = 0.01))\n",
    "\n",
    "plt.contourf(x1, x2, classifer.predict(np.array([x1.ravel(), x2.ravel()]).T) #등치선을 만듬.\n",
    "            .reshape(x1.shape), alpha = 0.75, cmap = ListedColormap(('red', 'green')))\n",
    "\n",
    "plt.xlim(x1.min(), x1.max())\n",
    "plt.ylim(x2.min(), x2.max())\n",
    "\n",
    "for i,j in enumerate(np.unique(y_set)):\n",
    "    plt.scatter(x_set[y_set == j, 0], x_set[y_set == j, 1],\n",
    "               c = ListedColormap((\"red\", \"green\"))(i), label = j)\n",
    "\n",
    "plt.title(\"classifier (test set)\")\n",
    "plt.xlabel(\"age\")\n",
    "plt.ylabel(\"estimated salary\")\n",
    "plt.legend()\n",
    "plt.show()\n"
   ]
  },
  {
   "cell_type": "code",
   "execution_count": null,
   "metadata": {},
   "outputs": [],
   "source": []
  }
 ],
 "metadata": {
  "kernelspec": {
   "display_name": "Python 3",
   "language": "python",
   "name": "python3"
  },
  "language_info": {
   "codemirror_mode": {
    "name": "ipython",
    "version": 3
   },
   "file_extension": ".py",
   "mimetype": "text/x-python",
   "name": "python",
   "nbconvert_exporter": "python",
   "pygments_lexer": "ipython3",
   "version": "3.6.8"
  }
 },
 "nbformat": 4,
 "nbformat_minor": 2
}
