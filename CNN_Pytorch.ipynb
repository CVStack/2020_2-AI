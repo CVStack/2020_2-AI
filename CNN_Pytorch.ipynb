{
  "nbformat": 4,
  "nbformat_minor": 0,
  "metadata": {
    "colab": {
      "name": "CNN_Pytorch.ipynb",
      "provenance": [],
      "collapsed_sections": [],
      "authorship_tag": "ABX9TyPQX6bOxZq61yIwvinDDP6r",
      "include_colab_link": true
    },
    "kernelspec": {
      "name": "python3",
      "display_name": "Python 3"
    },
    "accelerator": "GPU"
  },
  "cells": [
    {
      "cell_type": "markdown",
      "metadata": {
        "id": "view-in-github",
        "colab_type": "text"
      },
      "source": [
        "<a href=\"https://colab.research.google.com/github/CVStack/2020_2-AI/blob/master/CNN_Pytorch.ipynb\" target=\"_parent\"><img src=\"https://colab.research.google.com/assets/colab-badge.svg\" alt=\"Open In Colab\"/></a>"
      ]
    },
    {
      "cell_type": "code",
      "metadata": {
        "colab": {
          "base_uri": "https://localhost:8080/"
        },
        "id": "2kujWpA2iXJ8",
        "outputId": "ae4e9644-ef90-4291-b59f-674165501927"
      },
      "source": [
        "from sklearn.datasets import fetch_openml\n",
        "mnist = fetch_openml('mnist_784', version = 1 , cache = True)\n",
        "X = mnist.data\n",
        "y = mnist.target\n",
        "\n",
        "import torch\n",
        "from torch.utils.data import TensorDataset, DataLoader\n",
        "from sklearn.model_selection import train_test_split\n",
        "\n",
        "X_train, X_test, y_train, y_test = train_test_split(X, y, test_size = 1/7, random_state = 0)\n",
        "#split train, test data\n",
        "X_train = torch.Tensor(X_train)\n",
        "X_test = torch.Tensor(X_test)\n",
        "y_train = torch.LongTensor(list(map(int, y_train)))\n",
        "y_test = torch.LongTensor(list(map(int, y_test)))\n",
        "\n",
        "import torch.nn as nn\n",
        "import torch.nn.functional as F\n",
        "from torch import optim\n",
        "from torch.autograd import Variable\n",
        "\n",
        "X_train = X_train.view(-1, 1, 28, 28).float()\n",
        "X_test = X_test.view(-1, 1, 28, 28).float()\n",
        "print(X_train.shape)\n",
        "print(X_test.shape)\n",
        "\n",
        "train = TensorDataset(X_train, y_train)\n",
        "test = TensorDataset(X_test, y_test)\n",
        "BATCH_SIZE = 32\n",
        "loader_train = DataLoader(train, batch_size = BATCH_SIZE, shuffle = False)\n",
        "loader_test = DataLoader(test, batch_size = BATCH_SIZE, shuffle = False)\n",
        "\n",
        "class CNN(nn.Module):\n",
        "  def __init__(self):\n",
        "    super(CNN, self).__init__()\n",
        "    self.conv1 = nn.Conv2d(1, 32, kernel_size = 5) # 1 -> feature map 32 // filter : 32\n",
        "    self.conv2 = nn.Conv2d(32, 32, kernel_size = 5) # 32 -> 32 // filter : 1\n",
        "    self.conv3 = nn.Conv2d(32, 64, kernel_size = 5) # 32 -> 64 // fiter : 2\n",
        "    self.fc1 = nn.Linear(3*3*64, 256)\n",
        "    self.fc2 = nn.Linear(256, 10)\n",
        "\n",
        "    self.loss_fn = nn.CrossEntropyLoss()\n",
        "    self.optimizer = optim.Adam(self.parameters(), lr = 0.01)\n",
        "\n",
        "  def forward(self, x):\n",
        "    x = F.relu(self.conv1(x))\n",
        "    x = F.relu(F.max_pool2d(self.conv2(x), 2))\n",
        "    x = F.dropout(x, p = 0.5, training=self.training)\n",
        "    x = F.relu(F.max_pool2d(self.conv3(x) ,2))\n",
        "    x = F.dropout(x, p = 0.5, training=self.training)\n",
        "    x = x.view(-1, 3*3*64)\n",
        "    x = F.relu(self.fc1(x))\n",
        "    x = F.dropout(x, training=self.training)\n",
        "    x = self.fc2(x)\n",
        "    return F.log_softmax(x, dim = 1)\n",
        "\n",
        "  "
      ],
      "execution_count": null,
      "outputs": [
        {
          "output_type": "stream",
          "text": [
            "torch.Size([60000, 1, 28, 28])\n",
            "torch.Size([10000, 1, 28, 28])\n"
          ],
          "name": "stdout"
        }
      ]
    },
    {
      "cell_type": "code",
      "metadata": {
        "colab": {
          "base_uri": "https://localhost:8080/"
        },
        "id": "LgJ722HnpoCj",
        "outputId": "e8c38367-f8d4-4719-e14f-4329bb80a1f3"
      },
      "source": [
        "def fit(model, loader_train):\n",
        "    optimizer = torch.optim.Adam(model.parameters())\n",
        "    error = nn.CrossEntropyLoss()\n",
        "    EPOCHS = 1\n",
        "    model.train()\n",
        "    for epoch in range(EPOCHS):\n",
        "      correct = 0\n",
        "      for batch_idx, (X_batch, y_batch) in enumerate(loader_train):\n",
        "        var_X_batch = Variable(X_batch).float()\n",
        "        var_y_batch = Variable(y_batch)\n",
        "        optimizer.zero_grad()\n",
        "        output = model(var_X_batch)\n",
        "        loss = error(output, var_y_batch)\n",
        "        loss.backward()\n",
        "        optimizer.step() #parameter update\n",
        "        predicted = torch.max(output.data , 1)[1]\n",
        "        correct += (predicted == var_y_batch).sum()\n",
        "        if batch_idx % 50 == 0:\n",
        "          print('epoch : {}[{}/{} ({:.0f})]\\t loss function : {:.6f}\\t Accuracy:{:.3f}%'\n",
        "          .format(epoch, batch_idx*len(X_batch), len(loader_train), \n",
        "                  100. * batch_idx / len(loader_train), loss.data,\n",
        "                  correct * 100./ (BATCH_SIZE * (batch_idx + 1))))\n",
        "          \n",
        "def evaluate(model):\n",
        "    correct = 0\n",
        "    for test_imgs, test_labels in loader_test:\n",
        "      test_imgs = Variable(test_imgs).float()\n",
        "      outputs = model(test_imgs)\n",
        "      predicted = torch.max(outputs, 1)[1]\n",
        "      correct += (predicted == test_labels).sum()\n",
        "    print('test data accuracy : {:.3f}%'.format(float(correct) / (len(loader_test) * BATCH_SIZE)))\n",
        "\n",
        "cnn = CNN()\n",
        "evaluate(cnn)\n",
        "fit(cnn, loader_train)\n",
        "cnn.eval()\n",
        "evaluate(cnn)\n",
        "\n",
        "index = 10\n",
        "data = X_test[index].view(-1, 1, 28, 28).float()\n",
        "output = cnn(data)\n",
        "print('{}번째 학습데이터의 테스트 결과 : {}'.format(index, output))\n",
        "_, predicted = torch.max(output, 1)\n",
        "print('{}번째 데이터 예측 : {}'.format(index, predicted.numpy()))\n",
        "print('실제 레이블 : {}'.format(y_test[index]))"
      ],
      "execution_count": null,
      "outputs": [
        {
          "output_type": "stream",
          "text": [
            "test data accuracy : 0.100%\n",
            "epoch : 0[0/1875 (0)]\t loss function : 13.764584\t Accuracy:12.500%\n",
            "epoch : 0[1600/1875 (3)]\t loss function : 2.100624\t Accuracy:17.463%\n",
            "epoch : 0[3200/1875 (5)]\t loss function : 1.063302\t Accuracy:35.520%\n",
            "epoch : 0[4800/1875 (8)]\t loss function : 0.875107\t Accuracy:48.262%\n",
            "epoch : 0[6400/1875 (11)]\t loss function : 0.834617\t Accuracy:55.442%\n",
            "epoch : 0[8000/1875 (13)]\t loss function : 0.517701\t Accuracy:61.056%\n",
            "epoch : 0[9600/1875 (16)]\t loss function : 0.303024\t Accuracy:65.293%\n",
            "epoch : 0[11200/1875 (19)]\t loss function : 0.317802\t Accuracy:68.225%\n",
            "epoch : 0[12800/1875 (21)]\t loss function : 0.447770\t Accuracy:70.511%\n",
            "epoch : 0[14400/1875 (24)]\t loss function : 0.380069\t Accuracy:72.457%\n",
            "epoch : 0[16000/1875 (27)]\t loss function : 0.228485\t Accuracy:74.071%\n",
            "epoch : 0[17600/1875 (29)]\t loss function : 0.183773\t Accuracy:75.482%\n",
            "epoch : 0[19200/1875 (32)]\t loss function : 0.587907\t Accuracy:76.560%\n",
            "epoch : 0[20800/1875 (35)]\t loss function : 0.486716\t Accuracy:77.439%\n",
            "epoch : 0[22400/1875 (37)]\t loss function : 0.227966\t Accuracy:78.424%\n",
            "epoch : 0[24000/1875 (40)]\t loss function : 0.143813\t Accuracy:79.228%\n",
            "epoch : 0[25600/1875 (43)]\t loss function : 0.287106\t Accuracy:80.037%\n",
            "epoch : 0[27200/1875 (45)]\t loss function : 0.544187\t Accuracy:80.732%\n",
            "epoch : 0[28800/1875 (48)]\t loss function : 0.337781\t Accuracy:81.368%\n",
            "epoch : 0[30400/1875 (51)]\t loss function : 0.083663\t Accuracy:81.963%\n",
            "epoch : 0[32000/1875 (53)]\t loss function : 0.104963\t Accuracy:82.511%\n",
            "epoch : 0[33600/1875 (56)]\t loss function : 0.438647\t Accuracy:82.924%\n",
            "epoch : 0[35200/1875 (59)]\t loss function : 0.535638\t Accuracy:83.345%\n",
            "epoch : 0[36800/1875 (61)]\t loss function : 0.201424\t Accuracy:83.767%\n",
            "epoch : 0[38400/1875 (64)]\t loss function : 0.322706\t Accuracy:84.102%\n",
            "epoch : 0[40000/1875 (67)]\t loss function : 0.119312\t Accuracy:84.490%\n",
            "epoch : 0[41600/1875 (69)]\t loss function : 0.136478\t Accuracy:84.848%\n",
            "epoch : 0[43200/1875 (72)]\t loss function : 0.103503\t Accuracy:85.175%\n",
            "epoch : 0[44800/1875 (75)]\t loss function : 0.099989\t Accuracy:85.472%\n",
            "epoch : 0[46400/1875 (77)]\t loss function : 0.221254\t Accuracy:85.764%\n",
            "epoch : 0[48000/1875 (80)]\t loss function : 0.243709\t Accuracy:86.091%\n",
            "epoch : 0[49600/1875 (83)]\t loss function : 0.196652\t Accuracy:86.331%\n",
            "epoch : 0[51200/1875 (85)]\t loss function : 0.120785\t Accuracy:86.540%\n",
            "epoch : 0[52800/1875 (88)]\t loss function : 0.170150\t Accuracy:86.754%\n",
            "epoch : 0[54400/1875 (91)]\t loss function : 0.523741\t Accuracy:86.976%\n",
            "epoch : 0[56000/1875 (93)]\t loss function : 0.253067\t Accuracy:87.154%\n",
            "epoch : 0[57600/1875 (96)]\t loss function : 0.125957\t Accuracy:87.353%\n",
            "epoch : 0[59200/1875 (99)]\t loss function : 0.100413\t Accuracy:87.557%\n",
            "test data accuracy : 0.974%\n",
            "10번째 학습데이터의 테스트 결과 : tensor([[-9.8966e+00, -7.1119e-04, -1.0700e+01, -1.3200e+01, -9.3543e+00,\n",
            "         -1.0850e+01, -1.1402e+01, -8.9637e+00, -8.3156e+00, -8.8289e+00]],\n",
            "       grad_fn=<LogSoftmaxBackward>)\n",
            "10번째 데이터 예측 : [1]\n",
            "실제 레이블 : 1\n"
          ],
          "name": "stdout"
        }
      ]
    },
    {
      "cell_type": "code",
      "metadata": {
        "id": "r_NGyflGqVea"
      },
      "source": [
        ""
      ],
      "execution_count": null,
      "outputs": []
    }
  ]
}