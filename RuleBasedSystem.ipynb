{
 "cells": [
  {
   "cell_type": "code",
   "execution_count": 1,
   "metadata": {},
   "outputs": [
    {
     "name": "stdout",
     "output_type": "stream",
     "text": [
      "hello World\n"
     ]
    },
    {
     "data": {
      "text/plain": [
       "{'sid': '0', 'id': 'sid-0', '$s': 1}"
      ]
     },
     "execution_count": 1,
     "metadata": {},
     "output_type": "execute_result"
    }
   ],
   "source": [
    "from durable.lang import *\n",
    "\n",
    "with ruleset('testRS'):\n",
    "    # 규칙 집합 testRS\n",
    "    \n",
    "    @when_all(m.subject == 'World') #조건부\n",
    "    def say_hello(c):\n",
    "        print('hello {0}'.format(c.m.subject)) #c -> 평가 대상\n",
    "        \n",
    "post('testRS', { 'subject' : 'World'}) #규칙 집합에 데이터 'Subject' : 'World' 전달"
   ]
  },
  {
   "cell_type": "code",
   "execution_count": 2,
   "metadata": {},
   "outputs": [],
   "source": [
    "with ruleset('animal'):\n",
    "    @when_all(\n",
    "    c.first << (m.predicate == 'eats') & (m.object == 'flies'), \n",
    "        (m.predicate == 'lives') & (m.object == 'water') & (m.subject == c.first.subject)\n",
    "    )   \n",
    "    def frog(c):\n",
    "        c.assert_fact({'subject' : c.first.subject, 'predicate' : 'is', 'object' : 'frog'})\n",
    "        #add fact\n",
    "    \n",
    "    @when_all(\n",
    "    c.first << (m.predicate == 'eats') & (m.object == 'flies'), \n",
    "        (m.predicate == 'lives') & (m.object == 'land') & (m.subject == c.first.subject)\n",
    "    )   \n",
    "    def chameleon(c):\n",
    "        c.assert_fact({'subject' : c.first.subject, 'predicate' : 'is', 'object' : 'chameleon'})\n",
    "    \n",
    "    @when_all((m.predicate == 'eats') & (m.object == 'worms'))   \n",
    "    def bird(c):\n",
    "        c.assert_fact({'subject' : c.m.subject, 'predicate' : 'is', 'object' : 'bird'})\n",
    "      \n",
    "    @when_all((m.predicate == 'is') & (m.object == 'frog'))   \n",
    "    def green(c):\n",
    "        c.assert_fact({'subject' : c.m.subject, 'predicate' : 'is', 'object' : 'green'})\n",
    "        \n",
    "    @when_all((m.predicate == 'is') & (m.object == 'chameleon'))   \n",
    "    def green(c):\n",
    "        c.assert_fact({'subject' : c.m.subject, 'predicate' : 'is', 'object' : 'grey'})\n",
    "    \n",
    "    @when_all((m.predicate == 'is') & (m.object == 'bird'))   \n",
    "    def green(c):\n",
    "        c.assert_fact({'subject' : c.m.subject, 'predicate' : 'is', 'object' : 'black'})\n",
    "    \n",
    "    @when_all(+m.subject)   \n",
    "    def output(c):\n",
    "        print('Fact : {0} {1} {2}'.format(c.m.subject, c.m.predicate, c.m.object))\n",
    "        "
   ]
  },
  {
   "cell_type": "code",
   "execution_count": 3,
   "metadata": {},
   "outputs": [
    {
     "name": "stdout",
     "output_type": "stream",
     "text": [
      "Fact : Kermit eats flies\n",
      "Fact : Kermit is green\n",
      "Fact : Kermit is frog\n",
      "Fact : Kermit lives water\n",
      "Fact : Greedy eats flies\n",
      "Fact : Greedy is grey\n",
      "Fact : Greedy is chameleon\n",
      "Fact : Greedy lives land\n",
      "Fact : Tweety is black\n",
      "Fact : Tweety is bird\n",
      "Fact : Tweety eats worms\n"
     ]
    },
    {
     "data": {
      "text/plain": [
       "{'sid': '0', 'id': 'sid-0', '$s': 1}"
      ]
     },
     "execution_count": 3,
     "metadata": {},
     "output_type": "execute_result"
    }
   ],
   "source": [
    "assert_fact('animal', {'subject' : 'Kermit', 'predicate' : 'eats', 'object' : 'flies'})\n",
    "assert_fact('animal', {'subject' : 'Kermit', 'predicate' : 'lives', 'object' : 'water'})\n",
    "assert_fact('animal', {'subject' : 'Greedy', 'predicate' : 'eats', 'object' : 'flies'})\n",
    "assert_fact('animal', {'subject' : 'Greedy', 'predicate' : 'lives', 'object' : 'land'})\n",
    "assert_fact('animal', {'subject' : 'Tweety', 'predicate' : 'eats', 'object' : 'worms'})"
   ]
  },
  {
   "cell_type": "code",
   "execution_count": 4,
   "metadata": {},
   "outputs": [
    {
     "name": "stdout",
     "output_type": "stream",
     "text": [
      "이상거래탐 탐지 --> CA, US\n"
     ]
    },
    {
     "data": {
      "text/plain": [
       "{'sid': '0', 'id': 'sid-0', '$s': 1}"
      ]
     },
     "execution_count": 4,
     "metadata": {},
     "output_type": "execute_result"
    }
   ],
   "source": [
    "with ruleset('risk'):\n",
    "    @when_all(c.first << m.t == 'purchase', c.second << m.location != c.first.location)\n",
    "    def fraud(c):\n",
    "        print('이상거래탐 탐지 --> {0}, {1}'.format(c.first.location, c.second.location))\n",
    "\n",
    "post('risk', {'t' : 'purchase', 'location' : 'US'})\n",
    "post('risk', {'t' : 'purchase', 'location' : 'CA'})"
   ]
  },
  {
   "cell_type": "code",
   "execution_count": 5,
   "metadata": {},
   "outputs": [
    {
     "name": "stdout",
     "output_type": "stream",
     "text": [
      "bookstore-> Added The new book\n",
      "Error : Message has already been observed: {\"name\": \"The new book\", \"seller\": \"bookstore\", \"reference\": \"75323\", \"price\": 500}\n"
     ]
    }
   ],
   "source": [
    "with ruleset('bookstore'):\n",
    "    @when_all(+m.status)\n",
    "    def event(c):\n",
    "        print('bookstore-> Reference {0} status {1}'.format(c.m.reference, c.m.status))\n",
    "        \n",
    "    @when_all(+m.name)\n",
    "    def fact(c):\n",
    "        print('bookstore-> Added {0}'.format(c.m.name))\n",
    "        \n",
    "    @when_all(none(+m.name))\n",
    "    def empty(c):\n",
    "        print('bookstore-> No books')\n",
    "        \n",
    "assert_fact('bookstore', {\n",
    "    \n",
    "    'name' : 'The new book',\n",
    "    'seller' : 'bookstore',\n",
    "    'reference' : '75323',\n",
    "    'price' : 500\n",
    "})\n",
    "\n",
    "\n",
    "try:\n",
    "    assert_fact('bookstore', {\n",
    "    \n",
    "    'name' : 'The new book',\n",
    "    'seller' : 'bookstore',\n",
    "    'reference' : '75323',\n",
    "    'price' : 500\n",
    "    })\n",
    "except BaseException as e:\n",
    "    print('Error : {0}'.format(e.message))"
   ]
  },
  {
   "cell_type": "code",
   "execution_count": 6,
   "metadata": {},
   "outputs": [
    {
     "name": "stdout",
     "output_type": "stream",
     "text": [
      "bookstore-> Reference 75323 status Active\n",
      "bookstore-> No books\n"
     ]
    },
    {
     "data": {
      "text/plain": [
       "{'sid': '0', 'id': 'sid-0', '$s': 1}"
      ]
     },
     "execution_count": 6,
     "metadata": {},
     "output_type": "execute_result"
    }
   ],
   "source": [
    "post('bookstore', {\n",
    "    'reference' : '75323',\n",
    "    'status' : 'Active'\n",
    "})\n",
    "\n",
    "retract_fact('bookstore', {\n",
    "    \n",
    "    'name' : 'The new book',\n",
    "    'seller' : 'bookstore',\n",
    "    'reference' : '75323',\n",
    "    'price' : 500\n",
    "})"
   ]
  },
  {
   "cell_type": "code",
   "execution_count": null,
   "metadata": {},
   "outputs": [],
   "source": []
  }
 ],
 "metadata": {
  "kernelspec": {
   "display_name": "Python 3",
   "language": "python",
   "name": "python3"
  },
  "language_info": {
   "codemirror_mode": {
    "name": "ipython",
    "version": 3
   },
   "file_extension": ".py",
   "mimetype": "text/x-python",
   "name": "python",
   "nbconvert_exporter": "python",
   "pygments_lexer": "ipython3",
   "version": "3.6.8"
  }
 },
 "nbformat": 4,
 "nbformat_minor": 2
}
