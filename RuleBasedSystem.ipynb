{
 "cells": [
  {
   "cell_type": "code",
   "execution_count": 1,
   "metadata": {},
   "outputs": [
    {
     "name": "stdout",
     "output_type": "stream",
     "text": [
      "hello World\n"
     ]
    },
    {
     "data": {
      "text/plain": [
       "{'sid': '0', 'id': 'sid-0', '$s': 1}"
      ]
     },
     "execution_count": 1,
     "metadata": {},
     "output_type": "execute_result"
    }
   ],
   "source": [
    "from durable.lang import *\n",
    "\n",
    "with ruleset('testRS'):\n",
    "    # 규칙 집합 testRS\n",
    "    \n",
    "    @when_all(m.subject == 'World') #조건부\n",
    "    def say_hello(c):\n",
    "        print('hello {0}'.format(c.m.subject)) #c -> 평가 대상\n",
    "        \n",
    "post('testRS', { 'subject' : 'World'}) #규칙 집합에 데이터 'Subject' : 'World' 전달"
   ]
  },
  {
   "cell_type": "code",
   "execution_count": 2,
   "metadata": {},
   "outputs": [],
   "source": [
    "with ruleset('animal'):\n",
    "    @when_all(\n",
    "    c.first << (m.predicate == 'eats') & (m.object == 'flies'), \n",
    "        (m.predicate == 'lives') & (m.object == 'water') & (m.subject == c.first.subject)\n",
    "    )   \n",
    "    def frog(c):\n",
    "        c.assert_fact({'subject' : c.first.subject, 'predicate' : 'is', 'object' : 'frog'})\n",
    "        #add fact\n",
    "    \n",
    "    @when_all(\n",
    "    c.first << (m.predicate == 'eats') & (m.object == 'flies'), \n",
    "        (m.predicate == 'lives') & (m.object == 'land') & (m.subject == c.first.subject)\n",
    "    )   \n",
    "    def chameleon(c):\n",
    "        c.assert_fact({'subject' : c.first.subject, 'predicate' : 'is', 'object' : 'chameleon'})\n",
    "    \n",
    "    @when_all((m.predicate == 'eats') & (m.object == 'worms'))   \n",
    "    def bird(c):\n",
    "        c.assert_fact({'subject' : c.m.subject, 'predicate' : 'is', 'object' : 'bird'})\n",
    "      \n",
    "    @when_all((m.predicate == 'is') & (m.object == 'frog'))   \n",
    "    def green(c):\n",
    "        c.assert_fact({'subject' : c.m.subject, 'predicate' : 'is', 'object' : 'green'})\n",
    "        \n",
    "    @when_all((m.predicate == 'is') & (m.object == 'chameleon'))   \n",
    "    def green(c):\n",
    "        c.assert_fact({'subject' : c.m.subject, 'predicate' : 'is', 'object' : 'grey'})\n",
    "    \n",
    "    @when_all((m.predicate == 'is') & (m.object == 'bird'))   \n",
    "    def green(c):\n",
    "        c.assert_fact({'subject' : c.m.subject, 'predicate' : 'is', 'object' : 'black'})\n",
    "    \n",
    "    @when_all(+m.subject)   \n",
    "    def output(c):\n",
    "        print('Fact : {0} {1} {2}'.format(c.m.subject, c.m.predicate, c.m.object))\n",
    "        "
   ]
  },
  {
   "cell_type": "code",
   "execution_count": 5,
   "metadata": {},
   "outputs": [
    {
     "ename": "MessageObservedException",
     "evalue": "{'subject': 'Kermit', 'predicate': 'eats', 'object': 'flies'}",
     "output_type": "error",
     "traceback": [
      "\u001b[0;31m---------------------------------------------------------------------------\u001b[0m",
      "\u001b[0;31mMessageObservedException\u001b[0m                  Traceback (most recent call last)",
      "\u001b[0;32m<ipython-input-5-2b291f14ec45>\u001b[0m in \u001b[0;36m<module>\u001b[0;34m\u001b[0m\n\u001b[0;32m----> 1\u001b[0;31m \u001b[0massert_fact\u001b[0m\u001b[0;34m(\u001b[0m\u001b[0;34m'animal'\u001b[0m\u001b[0;34m,\u001b[0m \u001b[0;34m{\u001b[0m\u001b[0;34m'subject'\u001b[0m \u001b[0;34m:\u001b[0m \u001b[0;34m'Kermit'\u001b[0m\u001b[0;34m,\u001b[0m \u001b[0;34m'predicate'\u001b[0m \u001b[0;34m:\u001b[0m \u001b[0;34m'eats'\u001b[0m\u001b[0;34m,\u001b[0m \u001b[0;34m'object'\u001b[0m \u001b[0;34m:\u001b[0m \u001b[0;34m'flies'\u001b[0m\u001b[0;34m}\u001b[0m\u001b[0;34m)\u001b[0m\u001b[0;34m\u001b[0m\u001b[0;34m\u001b[0m\u001b[0m\n\u001b[0m\u001b[1;32m      2\u001b[0m \u001b[0massert_fact\u001b[0m\u001b[0;34m(\u001b[0m\u001b[0;34m'animal'\u001b[0m\u001b[0;34m,\u001b[0m \u001b[0;34m{\u001b[0m\u001b[0;34m'subject'\u001b[0m \u001b[0;34m:\u001b[0m \u001b[0;34m'Kermit'\u001b[0m\u001b[0;34m,\u001b[0m \u001b[0;34m'predicate'\u001b[0m \u001b[0;34m:\u001b[0m \u001b[0;34m'lives'\u001b[0m\u001b[0;34m,\u001b[0m \u001b[0;34m'object'\u001b[0m \u001b[0;34m:\u001b[0m \u001b[0;34m'water'\u001b[0m\u001b[0;34m}\u001b[0m\u001b[0;34m)\u001b[0m\u001b[0;34m\u001b[0m\u001b[0;34m\u001b[0m\u001b[0m\n\u001b[1;32m      3\u001b[0m \u001b[0massert_fact\u001b[0m\u001b[0;34m(\u001b[0m\u001b[0;34m'animal'\u001b[0m\u001b[0;34m,\u001b[0m \u001b[0;34m{\u001b[0m\u001b[0;34m'subject'\u001b[0m \u001b[0;34m:\u001b[0m \u001b[0;34m'Greedy'\u001b[0m\u001b[0;34m,\u001b[0m \u001b[0;34m'predicate'\u001b[0m \u001b[0;34m:\u001b[0m \u001b[0;34m'eats'\u001b[0m\u001b[0;34m,\u001b[0m \u001b[0;34m'object'\u001b[0m \u001b[0;34m:\u001b[0m \u001b[0;34m'flies'\u001b[0m\u001b[0;34m}\u001b[0m\u001b[0;34m)\u001b[0m\u001b[0;34m\u001b[0m\u001b[0;34m\u001b[0m\u001b[0m\n\u001b[1;32m      4\u001b[0m \u001b[0massert_fact\u001b[0m\u001b[0;34m(\u001b[0m\u001b[0;34m'animal'\u001b[0m\u001b[0;34m,\u001b[0m \u001b[0;34m{\u001b[0m\u001b[0;34m'subject'\u001b[0m \u001b[0;34m:\u001b[0m \u001b[0;34m'Greedy'\u001b[0m\u001b[0;34m,\u001b[0m \u001b[0;34m'predicate'\u001b[0m \u001b[0;34m:\u001b[0m \u001b[0;34m'lives'\u001b[0m\u001b[0;34m,\u001b[0m \u001b[0;34m'object'\u001b[0m \u001b[0;34m:\u001b[0m \u001b[0;34m'land'\u001b[0m\u001b[0;34m}\u001b[0m\u001b[0;34m)\u001b[0m\u001b[0;34m\u001b[0m\u001b[0;34m\u001b[0m\u001b[0m\n\u001b[1;32m      5\u001b[0m \u001b[0massert_fact\u001b[0m\u001b[0;34m(\u001b[0m\u001b[0;34m'animal'\u001b[0m\u001b[0;34m,\u001b[0m \u001b[0;34m{\u001b[0m\u001b[0;34m'subject'\u001b[0m \u001b[0;34m:\u001b[0m \u001b[0;34m'Tweety'\u001b[0m\u001b[0;34m,\u001b[0m \u001b[0;34m'predicate'\u001b[0m \u001b[0;34m:\u001b[0m \u001b[0;34m'eats'\u001b[0m\u001b[0;34m,\u001b[0m \u001b[0;34m'object'\u001b[0m \u001b[0;34m:\u001b[0m \u001b[0;34m'worms'\u001b[0m\u001b[0;34m}\u001b[0m\u001b[0;34m)\u001b[0m\u001b[0;34m\u001b[0m\u001b[0;34m\u001b[0m\u001b[0m\n",
      "\u001b[0;32m/opt/conda/lib/python3.6/site-packages/durable/lang.py\u001b[0m in \u001b[0;36massert_fact\u001b[0;34m(ruleset_name, fact, complete)\u001b[0m\n\u001b[1;32m    674\u001b[0m \u001b[0;34m\u001b[0m\u001b[0m\n\u001b[1;32m    675\u001b[0m \u001b[0;32mdef\u001b[0m \u001b[0massert_fact\u001b[0m\u001b[0;34m(\u001b[0m\u001b[0mruleset_name\u001b[0m\u001b[0;34m,\u001b[0m \u001b[0mfact\u001b[0m\u001b[0;34m,\u001b[0m \u001b[0mcomplete\u001b[0m \u001b[0;34m=\u001b[0m \u001b[0;32mNone\u001b[0m\u001b[0;34m)\u001b[0m\u001b[0;34m:\u001b[0m\u001b[0;34m\u001b[0m\u001b[0;34m\u001b[0m\u001b[0m\n\u001b[0;32m--> 676\u001b[0;31m     \u001b[0;32mreturn\u001b[0m \u001b[0mget_host\u001b[0m\u001b[0;34m(\u001b[0m\u001b[0;34m)\u001b[0m\u001b[0;34m.\u001b[0m\u001b[0massert_fact\u001b[0m\u001b[0;34m(\u001b[0m\u001b[0mruleset_name\u001b[0m\u001b[0;34m,\u001b[0m \u001b[0mfact\u001b[0m\u001b[0;34m,\u001b[0m \u001b[0mcomplete\u001b[0m\u001b[0;34m)\u001b[0m\u001b[0;34m\u001b[0m\u001b[0;34m\u001b[0m\u001b[0m\n\u001b[0m\u001b[1;32m    677\u001b[0m \u001b[0;34m\u001b[0m\u001b[0m\n\u001b[1;32m    678\u001b[0m \u001b[0;32mdef\u001b[0m \u001b[0massert_facts\u001b[0m\u001b[0;34m(\u001b[0m\u001b[0mruleset_name\u001b[0m\u001b[0;34m,\u001b[0m \u001b[0mfacts\u001b[0m\u001b[0;34m,\u001b[0m \u001b[0mcomplete\u001b[0m \u001b[0;34m=\u001b[0m \u001b[0;32mNone\u001b[0m\u001b[0;34m)\u001b[0m\u001b[0;34m:\u001b[0m\u001b[0;34m\u001b[0m\u001b[0;34m\u001b[0m\u001b[0m\n",
      "\u001b[0;32m/opt/conda/lib/python3.6/site-packages/durable/engine.py\u001b[0m in \u001b[0;36massert_fact\u001b[0;34m(self, ruleset_name, fact, complete)\u001b[0m\n\u001b[1;32m    815\u001b[0m \u001b[0;34m\u001b[0m\u001b[0m\n\u001b[1;32m    816\u001b[0m         \u001b[0mrules\u001b[0m \u001b[0;34m=\u001b[0m \u001b[0mself\u001b[0m\u001b[0;34m.\u001b[0m\u001b[0mget_ruleset\u001b[0m\u001b[0;34m(\u001b[0m\u001b[0mruleset_name\u001b[0m\u001b[0;34m)\u001b[0m\u001b[0;34m\u001b[0m\u001b[0;34m\u001b[0m\u001b[0m\n\u001b[0;32m--> 817\u001b[0;31m         \u001b[0;32mreturn\u001b[0m \u001b[0mself\u001b[0m\u001b[0;34m.\u001b[0m\u001b[0m_handle_function\u001b[0m\u001b[0;34m(\u001b[0m\u001b[0mrules\u001b[0m\u001b[0;34m,\u001b[0m \u001b[0mrules\u001b[0m\u001b[0;34m.\u001b[0m\u001b[0massert_fact\u001b[0m\u001b[0;34m,\u001b[0m \u001b[0mfact\u001b[0m\u001b[0;34m,\u001b[0m \u001b[0mcomplete\u001b[0m\u001b[0;34m)\u001b[0m\u001b[0;34m\u001b[0m\u001b[0;34m\u001b[0m\u001b[0m\n\u001b[0m\u001b[1;32m    818\u001b[0m \u001b[0;34m\u001b[0m\u001b[0m\n\u001b[1;32m    819\u001b[0m     \u001b[0;32mdef\u001b[0m \u001b[0massert_facts\u001b[0m\u001b[0;34m(\u001b[0m\u001b[0mself\u001b[0m\u001b[0;34m,\u001b[0m \u001b[0mruleset_name\u001b[0m\u001b[0;34m,\u001b[0m \u001b[0mfacts\u001b[0m\u001b[0;34m,\u001b[0m \u001b[0mcomplete\u001b[0m \u001b[0;34m=\u001b[0m \u001b[0;32mNone\u001b[0m\u001b[0;34m)\u001b[0m\u001b[0;34m:\u001b[0m\u001b[0;34m\u001b[0m\u001b[0;34m\u001b[0m\u001b[0m\n",
      "\u001b[0;32m/opt/conda/lib/python3.6/site-packages/durable/engine.py\u001b[0m in \u001b[0;36m_handle_function\u001b[0;34m(self, rules, func, args, complete)\u001b[0m\n\u001b[1;32m    788\u001b[0m \u001b[0;34m\u001b[0m\u001b[0m\n\u001b[1;32m    789\u001b[0m         \u001b[0;32mif\u001b[0m \u001b[0;32mnot\u001b[0m \u001b[0mcomplete\u001b[0m\u001b[0;34m:\u001b[0m\u001b[0;34m\u001b[0m\u001b[0;34m\u001b[0m\u001b[0m\n\u001b[0;32m--> 790\u001b[0;31m             \u001b[0mrules\u001b[0m\u001b[0;34m.\u001b[0m\u001b[0mdo_actions\u001b[0m\u001b[0;34m(\u001b[0m\u001b[0mfunc\u001b[0m\u001b[0;34m(\u001b[0m\u001b[0margs\u001b[0m\u001b[0;34m)\u001b[0m\u001b[0;34m,\u001b[0m \u001b[0mcallback\u001b[0m\u001b[0;34m)\u001b[0m\u001b[0;34m\u001b[0m\u001b[0;34m\u001b[0m\u001b[0m\n\u001b[0m\u001b[1;32m    791\u001b[0m             \u001b[0;32mif\u001b[0m \u001b[0merror\u001b[0m\u001b[0;34m[\u001b[0m\u001b[0;36m0\u001b[0m\u001b[0;34m]\u001b[0m\u001b[0;34m:\u001b[0m\u001b[0;34m\u001b[0m\u001b[0;34m\u001b[0m\u001b[0m\n\u001b[1;32m    792\u001b[0m                 \u001b[0;32mraise\u001b[0m \u001b[0merror\u001b[0m\u001b[0;34m[\u001b[0m\u001b[0;36m0\u001b[0m\u001b[0;34m]\u001b[0m\u001b[0;34m\u001b[0m\u001b[0;34m\u001b[0m\u001b[0m\n",
      "\u001b[0;32m/opt/conda/lib/python3.6/site-packages/durable/engine.py\u001b[0m in \u001b[0;36massert_fact\u001b[0;34m(self, fact)\u001b[0m\n\u001b[1;32m    341\u001b[0m \u001b[0;34m\u001b[0m\u001b[0m\n\u001b[1;32m    342\u001b[0m     \u001b[0;32mdef\u001b[0m \u001b[0massert_fact\u001b[0m\u001b[0;34m(\u001b[0m\u001b[0mself\u001b[0m\u001b[0;34m,\u001b[0m \u001b[0mfact\u001b[0m\u001b[0;34m)\u001b[0m\u001b[0;34m:\u001b[0m\u001b[0;34m\u001b[0m\u001b[0;34m\u001b[0m\u001b[0m\n\u001b[0;32m--> 343\u001b[0;31m         \u001b[0;32mreturn\u001b[0m \u001b[0mself\u001b[0m\u001b[0;34m.\u001b[0m\u001b[0m_handle_result\u001b[0m\u001b[0;34m(\u001b[0m\u001b[0mdurable_rules_engine\u001b[0m\u001b[0;34m.\u001b[0m\u001b[0massert_fact\u001b[0m\u001b[0;34m(\u001b[0m\u001b[0mself\u001b[0m\u001b[0;34m.\u001b[0m\u001b[0m_handle\u001b[0m\u001b[0;34m,\u001b[0m \u001b[0mjson\u001b[0m\u001b[0;34m.\u001b[0m\u001b[0mdumps\u001b[0m\u001b[0;34m(\u001b[0m\u001b[0mfact\u001b[0m\u001b[0;34m,\u001b[0m \u001b[0mensure_ascii\u001b[0m\u001b[0;34m=\u001b[0m\u001b[0;32mFalse\u001b[0m\u001b[0;34m)\u001b[0m\u001b[0;34m)\u001b[0m\u001b[0;34m,\u001b[0m \u001b[0mfact\u001b[0m\u001b[0;34m)\u001b[0m\u001b[0;34m\u001b[0m\u001b[0;34m\u001b[0m\u001b[0m\n\u001b[0m\u001b[1;32m    344\u001b[0m \u001b[0;34m\u001b[0m\u001b[0m\n\u001b[1;32m    345\u001b[0m     \u001b[0;32mdef\u001b[0m \u001b[0massert_facts\u001b[0m\u001b[0;34m(\u001b[0m\u001b[0mself\u001b[0m\u001b[0;34m,\u001b[0m \u001b[0mfacts\u001b[0m\u001b[0;34m)\u001b[0m\u001b[0;34m:\u001b[0m\u001b[0;34m\u001b[0m\u001b[0;34m\u001b[0m\u001b[0m\n",
      "\u001b[0;32m/opt/conda/lib/python3.6/site-packages/durable/engine.py\u001b[0m in \u001b[0;36m_handle_result\u001b[0;34m(self, result, message)\u001b[0m\n\u001b[1;32m    328\u001b[0m             \u001b[0;32mraise\u001b[0m \u001b[0mMessageNotHandledException\u001b[0m\u001b[0;34m(\u001b[0m\u001b[0mmessage\u001b[0m\u001b[0;34m)\u001b[0m\u001b[0;34m\u001b[0m\u001b[0;34m\u001b[0m\u001b[0m\n\u001b[1;32m    329\u001b[0m         \u001b[0;32melif\u001b[0m \u001b[0mresult\u001b[0m\u001b[0;34m[\u001b[0m\u001b[0;36m0\u001b[0m\u001b[0;34m]\u001b[0m \u001b[0;34m==\u001b[0m \u001b[0;36m2\u001b[0m\u001b[0;34m:\u001b[0m\u001b[0;34m\u001b[0m\u001b[0;34m\u001b[0m\u001b[0m\n\u001b[0;32m--> 330\u001b[0;31m             \u001b[0;32mraise\u001b[0m \u001b[0mMessageObservedException\u001b[0m\u001b[0;34m(\u001b[0m\u001b[0mmessage\u001b[0m\u001b[0;34m)\u001b[0m\u001b[0;34m\u001b[0m\u001b[0;34m\u001b[0m\u001b[0m\n\u001b[0m\u001b[1;32m    331\u001b[0m         \u001b[0;32melif\u001b[0m \u001b[0mresult\u001b[0m\u001b[0;34m[\u001b[0m\u001b[0;36m0\u001b[0m\u001b[0;34m]\u001b[0m \u001b[0;34m==\u001b[0m \u001b[0;36m3\u001b[0m\u001b[0;34m:\u001b[0m\u001b[0;34m\u001b[0m\u001b[0;34m\u001b[0m\u001b[0m\n\u001b[1;32m    332\u001b[0m             \u001b[0;32mreturn\u001b[0m \u001b[0;36m0\u001b[0m\u001b[0;34m\u001b[0m\u001b[0;34m\u001b[0m\u001b[0m\n",
      "\u001b[0;31mMessageObservedException\u001b[0m: {'subject': 'Kermit', 'predicate': 'eats', 'object': 'flies'}"
     ]
    }
   ],
   "source": [
    "assert_fact('animal', {'subject' : 'Kermit', 'predicate' : 'eats', 'object' : 'flies'})\n",
    "assert_fact('animal', {'subject' : 'Kermit', 'predicate' : 'lives', 'object' : 'water'})\n",
    "assert_fact('animal', {'subject' : 'Greedy', 'predicate' : 'eats', 'object' : 'flies'})\n",
    "assert_fact('animal', {'subject' : 'Greedy', 'predicate' : 'lives', 'object' : 'land'})\n",
    "assert_fact('animal', {'subject' : 'Tweety', 'predicate' : 'eats', 'object' : 'worms'})"
   ]
  },
  {
   "cell_type": "code",
   "execution_count": 4,
   "metadata": {},
   "outputs": [
    {
     "name": "stdout",
     "output_type": "stream",
     "text": [
      "이상거래탐 탐지 --> CA, US\n"
     ]
    },
    {
     "data": {
      "text/plain": [
       "{'sid': '0', 'id': 'sid-0', '$s': 1}"
      ]
     },
     "execution_count": 4,
     "metadata": {},
     "output_type": "execute_result"
    }
   ],
   "source": [
    "with ruleset('risk'):\n",
    "    @when_all(c.first << m.t == 'purchase', c.second << m.location != c.first.location)\n",
    "    def fraud(c):\n",
    "        print('이상거래탐 탐지 --> {0}, {1}'.format(c.first.location, c.second.location))\n",
    "\n",
    "post('risk', {'t' : 'purchase', 'location' : 'US'})\n",
    "post('risk', {'t' : 'purchase', 'location' : 'CA'})"
   ]
  },
  {
   "cell_type": "code",
   "execution_count": 12,
   "metadata": {},
   "outputs": [
    {
     "name": "stdout",
     "output_type": "stream",
     "text": [
      "bookstore-> Added The new book\n",
      "Error : Message has already been observed: {\"name\": \"The new book\", \"seller\": \"bookstore\", \"reference\": \"75323\", \"price\": 500}\n"
     ]
    }
   ],
   "source": [
    "with ruleset('bookstore'):\n",
    "    @when_all(+m.status)\n",
    "    def event(c):\n",
    "        print('bookstore-> Reference {0} status {1}'.format(c.m.reference, c.m.status))\n",
    "        \n",
    "    @when_all(+m.name)\n",
    "    def fact(c):\n",
    "        print('bookstore-> Added {0}'.format(c.m.name))\n",
    "        \n",
    "    @when_all(none(+m.name))\n",
    "    def empty(c):\n",
    "        print('bookstore-> No books')\n",
    "        \n",
    "assert_fact('bookstore', {\n",
    "    \n",
    "    'name' : 'The new book',\n",
    "    'seller' : 'bookstore',\n",
    "    'reference' : '75323',\n",
    "    'price' : 500\n",
    "})\n",
    "\n",
    "\n",
    "try:\n",
    "    assert_fact('bookstore', {\n",
    "    \n",
    "    'name' : 'The new book',\n",
    "    'seller' : 'bookstore',\n",
    "    'reference' : '75323',\n",
    "    'price' : 500\n",
    "    })\n",
    "except BaseException as e:\n",
    "    print('Error : {0}'.format(e.message))"
   ]
  },
  {
   "cell_type": "code",
   "execution_count": 13,
   "metadata": {},
   "outputs": [
    {
     "name": "stdout",
     "output_type": "stream",
     "text": [
      "bookstore-> Reference 75323 status Active\n",
      "bookstore-> No books\n"
     ]
    },
    {
     "data": {
      "text/plain": [
       "{'sid': '0', 'id': 'sid-0', '$s': 1}"
      ]
     },
     "execution_count": 13,
     "metadata": {},
     "output_type": "execute_result"
    }
   ],
   "source": [
    "post('bookstore', {\n",
    "    'reference' : '75323',\n",
    "    'status' : 'Active'\n",
    "})\n",
    "\n",
    "retract_fact('bookstore', {\n",
    "    \n",
    "    'name' : 'The new book',\n",
    "    'seller' : 'bookstore',\n",
    "    'reference' : '75323',\n",
    "    'price' : 500\n",
    "})"
   ]
  },
  {
   "cell_type": "code",
   "execution_count": null,
   "metadata": {},
   "outputs": [],
   "source": []
  }
 ],
 "metadata": {
  "kernelspec": {
   "display_name": "Python 3",
   "language": "python",
   "name": "python3"
  },
  "language_info": {
   "codemirror_mode": {
    "name": "ipython",
    "version": 3
   },
   "file_extension": ".py",
   "mimetype": "text/x-python",
   "name": "python",
   "nbconvert_exporter": "python",
   "pygments_lexer": "ipython3",
   "version": "3.6.8"
  }
 },
 "nbformat": 4,
 "nbformat_minor": 2
}
