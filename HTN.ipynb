{
  "nbformat": 4,
  "nbformat_minor": 0,
  "metadata": {
    "colab": {
      "name": "HTN.ipynb",
      "provenance": [],
      "collapsed_sections": [],
      "authorship_tag": "ABX9TyNmR2cownIJr8DfG6F4lQSr",
      "include_colab_link": true
    },
    "kernelspec": {
      "name": "python3",
      "display_name": "Python 3"
    }
  },
  "cells": [
    {
      "cell_type": "markdown",
      "metadata": {
        "id": "view-in-github",
        "colab_type": "text"
      },
      "source": [
        "<a href=\"https://colab.research.google.com/github/CVStack/2020_2-AI/blob/master/HTN.ipynb\" target=\"_parent\"><img src=\"https://colab.research.google.com/assets/colab-badge.svg\" alt=\"Open In Colab\"/></a>"
      ]
    },
    {
      "cell_type": "code",
      "metadata": {
        "colab": {
          "base_uri": "https://localhost:8080/"
        },
        "id": "o3nPAKj61p7V",
        "outputId": "6a1d23de-a1d9-444d-e1b8-4ab78693a2e6"
      },
      "source": [
        "import copy, sys\n",
        "\n",
        "class State():\n",
        "  def __init__(self, name):\n",
        "    self.__name__ = name\n",
        "\n",
        "class Goal():\n",
        "  def __init__(self, name):\n",
        "    self.__name__ = name\n",
        "  \n",
        "def print_state(state, indent = 4):\n",
        "  if state != False:\n",
        "    for (name, val) in vars(state).items():\n",
        "      if name != '__name__':\n",
        "        for x in range(indent):\n",
        "          sys.stdout.write(' ')\n",
        "        sys.stdout.write(state.__name__ + '.' + name)\n",
        "        print(' =', val)\n",
        "  else:\n",
        "    print('False')\n",
        "\n",
        "def print_goal(goal, indent = 4):\n",
        "  if state != False:\n",
        "    for (name, val) in vars(goal).items():\n",
        "      if name != '__name__':\n",
        "        for x in range(indent):\n",
        "          sys.stdout.write(' ')\n",
        "        sys.stdout.write(goal.__name__ + '.' + name)\n",
        "        print(' =', val)\n",
        "  else:\n",
        "    print('False')\n",
        "\n",
        "def forall(seq, cond):\n",
        "  for x in seq:\n",
        "    if not cond(x):\n",
        "      return False\n",
        "    return True\n",
        "\n",
        "def find_if(cond, seq):\n",
        "  for x in seq:\n",
        "    if cond(x):\n",
        "      return x\n",
        "    return None\n",
        "\n",
        "operators = {}\n",
        "methods = {}\n",
        "\n",
        "def declare_operators(*op_list):\n",
        "  operators.update({op.__name__:op  for op in op_list})\n",
        "  return operators\n",
        "\n",
        "def declare_methods(task_name, *method_list):\n",
        "  methods.update({task_name: list(method_list)})\n",
        "  return methods[task_name]\n",
        "\n",
        "def print_operators(olist=operators):\n",
        "  print('연산자 : ', ', '.join(olist))\n",
        "\n",
        "def print_methods(mlist=methods):\n",
        "  print('{:<14}{}'.format('태스크: ', '메소드: '))\n",
        "  for task in mlist:\n",
        "    print('{:<14}'.format(task) + ', '.join([f.__name__ for f in mlist[task]]))\n",
        "\n",
        "def pyhop(state, tasks, verbose = 0):\n",
        "  print('테스크 : ', tasks)\n",
        "  if verbose > 0 :\n",
        "    print('verbose = {} : \\n상태 = {} \\n태스크 = {}'.format(verbose, state.__name__, tasks))\n",
        "    result = seek_plan(state, tasks, [], 0, verbose)\n",
        "    if verbose > 0:\n",
        "      print('결과 : ',result, '\\n')\n",
        "    return result\n",
        "\n",
        "def seek_plan(state, tasks, plan, depth, verbose=0):\n",
        "  if verbose > 1:\n",
        "    print('길이 : {} 태스크 : {}'.format(depth, tasks))\n",
        "  if tasks == []:\n",
        "    if verbose > 2:\n",
        "      print('길이 : {} 반환된 계획 {}'.format(depth, plan))\n",
        "    return plan\n",
        "  \n",
        "  task1 = tasks[0]\n",
        "  if task1[0] in operators:\n",
        "    if verbose > 2:\n",
        "      print('길이 {} 행동 {}'.format(depth, task1))\n",
        "    operator = operators[task1[0]]\n",
        "    newstate = operator(copy.deepcopy(state), *task1[1:])\n",
        "    if verbose > 2:\n",
        "      print('길이 {} 새로운 상태:'.format(depth))\n",
        "      print_state(newstate)\n",
        "    if newstate:\n",
        "      solution = seek_plan(newstate, tasks[1:], plan + [task1], depth+1, verbose)\n",
        "      if solution != False:\n",
        "        return solution\n",
        "  \n",
        "  if task1[0] in methods:\n",
        "    if verbose > 2:\n",
        "      print('길이 {} 메소드 {}'.format(depth, task1))\n",
        "    relevant = methods[task1[0]]\n",
        "    for method in relevant:\n",
        "      subtasks = method(state, *task1[1:])\n",
        "      if verbose > 2:\n",
        "        print('길이 {} 새로운 태스크 : {}'.format(depth, subtasks))\n",
        "      if subtasks != False:\n",
        "        solution = seek_plan(state, subtasks + tasks[1:], plan, depth+1, verbose)\n",
        "        if solution != False:\n",
        "          return solution\n",
        "  if verbose > 2:\n",
        "    print('길이 {} 실패'.format(depth))\n",
        "  return False\n",
        "\n",
        "def travel_by_foot(state, a, x, y):\n",
        "  if state.dist[x][y] <= 4:\n",
        "    return [('walk',a,x,y)]\n",
        "  return False\n",
        "\n",
        "def travel_by_taxi(state, a, x, y):\n",
        "  if state.cash[a] >= 1.5 + 0.5 * state.dist[x][y]:\n",
        "    return [('call_taxi', a, x), ('ride_taxi', a, x, y), ('pay_driver', a)]\n",
        "  return False\n",
        "\n",
        "declare_methods('travel', travel_by_foot, travel_by_taxi)\n",
        "\n",
        "def walk(state, a, x, y):\n",
        "  if state.loc[a] == x:\n",
        "    state.loc[a] = y\n",
        "    return state\n",
        "  else:\n",
        "    return False\n",
        "\n",
        "def call_taxi(state, a, x):\n",
        "  state.loc['taxi'] = x\n",
        "  return state\n",
        "\n",
        "def ride_taxi(state, a, x, y):\n",
        "  if state.loc['taxi'] == x and state.loc[a] == x:\n",
        "    state.loc['taxi'] = y\n",
        "    state.loc[a] = y\n",
        "    state.owe[a] = 1.5 * 0.5 * state.dist[x][y]\n",
        "    return state\n",
        "  else:\n",
        "    return False\n",
        "\n",
        "def pay_driver(state, a):\n",
        "  if state.cash[a] >= state.owe[a]:\n",
        "    state.cash[a] = state.cash[a] - state.owe[a]\n",
        "    state.owe[a] = 0\n",
        "    return state\n",
        "  else:\n",
        "    return False\n",
        "\n",
        "declare_operators(walk, call_taxi, ride_taxi, pay_driver)"
      ],
      "execution_count": 15,
      "outputs": [
        {
          "output_type": "execute_result",
          "data": {
            "text/plain": [
              "{'call_taxi': <function __main__.call_taxi>,\n",
              " 'pay_driver': <function __main__.pay_driver>,\n",
              " 'ride_taxi': <function __main__.ride_taxi>,\n",
              " 'walk': <function __main__.walk>}"
            ]
          },
          "metadata": {
            "tags": []
          },
          "execution_count": 15
        }
      ]
    },
    {
      "cell_type": "code",
      "metadata": {
        "colab": {
          "base_uri": "https://localhost:8080/"
        },
        "id": "qMhC5RPg4Bq-",
        "outputId": "8be7520c-02c9-476c-c6a5-22ff9c733d79"
      },
      "source": [
        "state1 = State('state1')\n",
        "state1.loc = {'me' : 'home'}\n",
        "state1.cash = {'me' : 20}\n",
        "state1.owe = {'me' : 0}\n",
        "state1.dist = {'home' : {'park' : 8}, 'park':{'home':8}}\n",
        "\n",
        "pyhop(state1,[('travel', 'me', 'home', 'park')], verbose = 3)"
      ],
      "execution_count": 19,
      "outputs": [
        {
          "output_type": "stream",
          "text": [
            "테스크 :  [('travel', 'me', 'home', 'park')]\n",
            "verbose = 3 : \n",
            "상태 = state1 \n",
            "태스크 = [('travel', 'me', 'home', 'park')]\n",
            "길이 : 0 태스크 : [('travel', 'me', 'home', 'park')]\n",
            "길이 0 메소드 ('travel', 'me', 'home', 'park')\n",
            "길이 0 새로운 태스크 : False\n",
            "길이 0 새로운 태스크 : [('call_taxi', 'me', 'home'), ('ride_taxi', 'me', 'home', 'park'), ('pay_driver', 'me')]\n",
            "길이 : 1 태스크 : [('call_taxi', 'me', 'home'), ('ride_taxi', 'me', 'home', 'park'), ('pay_driver', 'me')]\n",
            "길이 1 행동 ('call_taxi', 'me', 'home')\n",
            "길이 1 새로운 상태:\n",
            "    state1.loc = {'me': 'home', 'taxi': 'home'}\n",
            "    state1.cash = {'me': 20}\n",
            "    state1.owe = {'me': 0}\n",
            "    state1.dist = {'home': {'park': 8}, 'park': {'home': 8}}\n",
            "길이 : 2 태스크 : [('ride_taxi', 'me', 'home', 'park'), ('pay_driver', 'me')]\n",
            "길이 2 행동 ('ride_taxi', 'me', 'home', 'park')\n",
            "길이 2 새로운 상태:\n",
            "    state1.loc = {'me': 'park', 'taxi': 'park'}\n",
            "    state1.cash = {'me': 20}\n",
            "    state1.owe = {'me': 6.0}\n",
            "    state1.dist = {'home': {'park': 8}, 'park': {'home': 8}}\n",
            "길이 : 3 태스크 : [('pay_driver', 'me')]\n",
            "길이 3 행동 ('pay_driver', 'me')\n",
            "길이 3 새로운 상태:\n",
            "    state1.loc = {'me': 'park', 'taxi': 'park'}\n",
            "    state1.cash = {'me': 14.0}\n",
            "    state1.owe = {'me': 0}\n",
            "    state1.dist = {'home': {'park': 8}, 'park': {'home': 8}}\n",
            "길이 : 4 태스크 : []\n",
            "길이 : 4 반환된 계획 [('call_taxi', 'me', 'home'), ('ride_taxi', 'me', 'home', 'park'), ('pay_driver', 'me')]\n",
            "결과 :  [('call_taxi', 'me', 'home'), ('ride_taxi', 'me', 'home', 'park'), ('pay_driver', 'me')] \n",
            "\n"
          ],
          "name": "stdout"
        },
        {
          "output_type": "execute_result",
          "data": {
            "text/plain": [
              "[('call_taxi', 'me', 'home'),\n",
              " ('ride_taxi', 'me', 'home', 'park'),\n",
              " ('pay_driver', 'me')]"
            ]
          },
          "metadata": {
            "tags": []
          },
          "execution_count": 19
        }
      ]
    },
    {
      "cell_type": "code",
      "metadata": {
        "id": "YvgovKQt9f59"
      },
      "source": [
        ""
      ],
      "execution_count": null,
      "outputs": []
    }
  ]
}