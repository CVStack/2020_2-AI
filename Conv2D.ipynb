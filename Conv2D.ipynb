{
  "nbformat": 4,
  "nbformat_minor": 0,
  "metadata": {
    "colab": {
      "name": "Conv2D.ipynb",
      "provenance": [],
      "collapsed_sections": [],
      "authorship_tag": "ABX9TyO5EHaKHsvLwaaObtQ3v6EF",
      "include_colab_link": true
    },
    "kernelspec": {
      "name": "python3",
      "display_name": "Python 3"
    }
  },
  "cells": [
    {
      "cell_type": "markdown",
      "metadata": {
        "id": "view-in-github",
        "colab_type": "text"
      },
      "source": [
        "<a href=\"https://colab.research.google.com/github/CVStack/2020_2-AI/blob/master/Conv2D.ipynb\" target=\"_parent\"><img src=\"https://colab.research.google.com/assets/colab-badge.svg\" alt=\"Open In Colab\"/></a>"
      ]
    },
    {
      "cell_type": "code",
      "metadata": {
        "colab": {
          "base_uri": "https://localhost:8080/"
        },
        "id": "3HpJXevdFPoC",
        "outputId": "26fb8583-257e-4009-a3b3-5c0930d0d870"
      },
      "source": [
        "import numpy as np\n",
        "\n",
        "def Conv2D(X, W, w0, p=(0, 0), s=(1, 1)):\n",
        "  n1 = X.shape[0] + 2 * p[0]\n",
        "  n2 = X.shape[1] + 2 * p[1]\n",
        "  X_p = np.zeros(shape = (n1, n2))\n",
        "  X_p[p[0] : p[0] + X.shape[0], p[1] : p[1] + X.shape[1]] = X\n",
        "  res = []\n",
        "  for i in range(0, int((X_p.shape[0] - W.shape[0]) / s[0]) + 1, s[0]):\n",
        "    res.append([])\n",
        "    for j in range(0, int((X_p.shape[1] - W.shape[1]) / s[1]) + 1, s[1]):\n",
        "      X_s = X_p[i:i + W.shape[0], j: j + W.shape[1]]\n",
        "      res[-1].append(np.sum(X_s * W) + w0)\n",
        "\n",
        "  print('X size : {} x {}'.format(X_p.shape[0], X_p.shape[1]))\n",
        "  print('weight size : {} x {}'.format(W.shape[0], W.shape[1]))\n",
        "  print('stride size : {} x {}'.format(s[0], s[1]))\n",
        "  print('result size : {} x {}'.format(int((X_p.shape[0] - W.shape[0]) / s[0]) + 1, int((X_p.shape[1] - W.shape[1]) / s[1]) + 1) )\n",
        "  return (np.array(res))\n",
        "\n",
        "X = np.array(\n",
        "    [\n",
        "     [1,1,1,0,0],\n",
        "     [0,1,1,1,0],\n",
        "     [0,0,1,1,1],\n",
        "     [0,0,1,1,0],\n",
        "     [0,1,1,0,0],\n",
        "    ]\n",
        ")\n",
        "W = np.array([\n",
        "    \n",
        "     [1, 0, 1],\n",
        "     [0, 1, 0],\n",
        "     [1, 0, 1]\n",
        "    \n",
        "])\n",
        "w0 = 1\n",
        "\n",
        "conv = Conv2D(X, W ,w0)\n",
        "print('X = ', X)\n",
        "print('W = ', W)\n",
        "\n",
        "print('conv2d result (p = (0,0), s = (1,1))\\n', conv)\n",
        "\n",
        "conv = Conv2D(X, W ,w0, p = (1,1), s = (1,1))\n",
        "print('conv2d result (p = (1,1), s = (1,1))\\n', conv)\n",
        "\n",
        "conv = Conv2D(X, W ,w0, p = (1,1), s = (2,2))\n",
        "print('conv2d result (p = (1,1), s = (2,2))\\n', conv)"
      ],
      "execution_count": null,
      "outputs": [
        {
          "output_type": "stream",
          "text": [
            "X size : 5 x 5\n",
            "weight size : 3 x 3\n",
            "stride size : 1 x 1\n",
            "result size : 3 x 3\n",
            "X =  [[1 1 1 0 0]\n",
            " [0 1 1 1 0]\n",
            " [0 0 1 1 1]\n",
            " [0 0 1 1 0]\n",
            " [0 1 1 0 0]]\n",
            "W =  [[1 0 1]\n",
            " [0 1 0]\n",
            " [1 0 1]]\n",
            "conv2d result (p = (0,0), s = (1,1))\n",
            " [[5. 4. 5.]\n",
            " [3. 5. 4.]\n",
            " [3. 4. 5.]]\n",
            "X size : 7 x 7\n",
            "weight size : 3 x 3\n",
            "stride size : 1 x 1\n",
            "result size : 5 x 5\n",
            "conv2d result (p = (1,1), s = (1,1))\n",
            " [[3. 3. 4. 2. 2.]\n",
            " [2. 5. 4. 5. 2.]\n",
            " [2. 3. 5. 4. 4.]\n",
            " [2. 3. 4. 5. 2.]\n",
            " [1. 3. 3. 2. 2.]]\n",
            "X size : 7 x 7\n",
            "weight size : 3 x 3\n",
            "stride size : 2 x 2\n",
            "result size : 3 x 3\n",
            "conv2d result (p = (1,1), s = (2,2))\n",
            " [[3. 4.]\n",
            " [2. 5.]]\n"
          ],
          "name": "stdout"
        }
      ]
    },
    {
      "cell_type": "code",
      "metadata": {
        "id": "7cCTk6D_nPsK"
      },
      "source": [
        ""
      ],
      "execution_count": null,
      "outputs": []
    }
  ]
}