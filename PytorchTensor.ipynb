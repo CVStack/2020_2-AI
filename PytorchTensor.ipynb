{
  "nbformat": 4,
  "nbformat_minor": 0,
  "metadata": {
    "colab": {
      "name": "PytorchTensor.ipynb",
      "provenance": [],
      "collapsed_sections": [],
      "authorship_tag": "ABX9TyM6DH6MTZzQ5wvGt4FxZSYU",
      "include_colab_link": true
    },
    "kernelspec": {
      "name": "python3",
      "display_name": "Python 3"
    }
  },
  "cells": [
    {
      "cell_type": "markdown",
      "metadata": {
        "id": "view-in-github",
        "colab_type": "text"
      },
      "source": [
        "<a href=\"https://colab.research.google.com/github/CVStack/2020_2-AI/blob/master/PytorchTensor.ipynb\" target=\"_parent\"><img src=\"https://colab.research.google.com/assets/colab-badge.svg\" alt=\"Open In Colab\"/></a>"
      ]
    },
    {
      "cell_type": "code",
      "metadata": {
        "colab": {
          "base_uri": "https://localhost:8080/"
        },
        "id": "x1_nvRp0VlQ9",
        "outputId": "aec6ce58-be29-46b9-dc8a-a117d9318155"
      },
      "source": [
        "import numpy as np\n",
        "import torch\n",
        "\n",
        "A = torch.tensor([[1., -1.], [1., -1.]])\n",
        "print('A = ', A)\n",
        "B = torch.tensor(np.array([[1,2,3], [4,5,6]]))\n",
        "print('B = ', B)\n",
        "\n",
        "C = torch.rand(3,3) #random 3 x 3\n",
        "print('C = ', C)\n",
        "\n",
        "D = C.numpy()\n",
        "print('D = ', D)\n",
        "\n",
        "E = B.view(1,1,2,3) #reshape\n",
        "print('E = ', E)\n",
        "\n",
        "print('sum of A = ', A.sum())\n",
        "print('mean of A = ', A.mean())"
      ],
      "execution_count": null,
      "outputs": [
        {
          "output_type": "stream",
          "text": [
            "A =  tensor([[ 1., -1.],\n",
            "        [ 1., -1.]])\n",
            "B =  tensor([[1, 2, 3],\n",
            "        [4, 5, 6]])\n",
            "C =  tensor([[0.2414, 0.6040, 0.0814],\n",
            "        [0.3623, 0.0764, 0.2663],\n",
            "        [0.8247, 0.7123, 0.0690]])\n",
            "D =  [[0.24135005 0.60402775 0.08135867]\n",
            " [0.36232919 0.07639956 0.2662987 ]\n",
            " [0.8247291  0.7123296  0.06901443]]\n",
            "E =  tensor([[[[1, 2, 3],\n",
            "          [4, 5, 6]]]])\n",
            "sum of A =  tensor(0.)\n",
            "mean of A =  tensor(0.)\n"
          ],
          "name": "stdout"
        }
      ]
    }
  ]
}