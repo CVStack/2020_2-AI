{
  "nbformat": 4,
  "nbformat_minor": 0,
  "metadata": {
    "colab": {
      "name": "MCTS.ipynb",
      "provenance": [],
      "collapsed_sections": [],
      "authorship_tag": "ABX9TyNOW57S+Zsq8xv39j5ePpNK",
      "include_colab_link": true
    },
    "kernelspec": {
      "name": "python3",
      "display_name": "Python 3"
    }
  },
  "cells": [
    {
      "cell_type": "markdown",
      "metadata": {
        "id": "view-in-github",
        "colab_type": "text"
      },
      "source": [
        "<a href=\"https://colab.research.google.com/github/hansupark/2020_2-AI/blob/master/MCTS.ipynb\" target=\"_parent\"><img src=\"https://colab.research.google.com/assets/colab-badge.svg\" alt=\"Open In Colab\"/></a>"
      ]
    },
    {
      "cell_type": "code",
      "metadata": {
        "id": "V-AF1OXJXA7E",
        "colab_type": "code",
        "colab": {}
      },
      "source": [
        "#몬테 카를로 트리 탐색 실습 "
      ],
      "execution_count": null,
      "outputs": []
    },
    {
      "cell_type": "code",
      "metadata": {
        "id": "uDXvxfIqXVgf",
        "colab_type": "code",
        "colab": {}
      },
      "source": [
        "from abc import ABC, abstractmethod\n",
        "from collections import defaultdict\n",
        "import math\n",
        "\n",
        "class MCTS:\n",
        "\n",
        "  def __init__(self, c = 1):\n",
        "    self.WC = defaultdict(int) # 노드별 이긴 횟수\n",
        "    self.VC = defaultdict(int) # 노드별 방문 횟수\n",
        "    self.children = dict() # 노드 자식노드들\n",
        "    self.c = c #UCB 계산시 사용되는 계수\n",
        "\n",
        "  def choose(self, node):\n",
        "    #최선의 자식노드를 선택하는 메소드\n",
        "\n",
        "    if node.is_terminal(): #해당 노드가 단말 노드일 경우\n",
        "      raise RuntimeError(f\"choose called on ternimal node {node}\")\n",
        "    \n",
        "    if node not in self.children:  # 해당 노드가 자식 노드들에 포함되지 않을시 \n",
        "      return node.find_random_chlld()  #무작위로 자식노드를 리턴\n",
        "\n",
        "    def score(n):\n",
        "      #점수를 계산하는 메소드\n",
        "\n",
        "      if self.VC[n] == 0 : #해당 노드의 방문횟수가 0일 경우\n",
        "        return float(\"-inf\") # 선택 배제\n",
        "      return self.WC[n] / self.VC[n] # 0회 이상일 경우 평균 값 리턴\n",
        "    \n",
        "    return max(self.children[node], key = score) \n",
        "    #score 함수 사용시 해당 노드의 자식들 중 최대값을 리턴\n",
        "    \n",
        "  def do_rollout(self, node):\n",
        "    \n",
        "    path = self._select(node)\n",
        "    leaf = path[-1]\n",
        "    self._expand(leaf)\n",
        "    reward = self._simulate(leaf)\n",
        "    self._backpropagate(path, reward)\n",
        "\n",
        "  def _select(self, node):\n",
        "    #아직 시도 하지 않은 자식 노드 찾음\n",
        "\n",
        "    path = []\n",
        "    while True:\n",
        "      path.append(node)\n",
        "      if node not in self.children or not self.children(node):\n",
        "        \n",
        "        return path\n",
        "      unexplored = self.children[node] - self.children.keys()\n",
        "\n",
        "      if unexplored :\n",
        "        n = unexplored.pop()\n",
        "        path.append(n)\n",
        "\n",
        "        return path\n",
        "      \n",
        "      node = self._uct_select(node)"
      ],
      "execution_count": null,
      "outputs": []
    }
  ]
}