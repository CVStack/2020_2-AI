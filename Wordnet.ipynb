{
 "cells": [
  {
   "cell_type": "code",
   "execution_count": 1,
   "metadata": {},
   "outputs": [
    {
     "name": "stderr",
     "output_type": "stream",
     "text": [
      "[nltk_data] Downloading package wordnet to /root/nltk_data...\n",
      "[nltk_data]   Package wordnet is already up-to-date!\n"
     ]
    },
    {
     "data": {
      "text/plain": [
       "True"
      ]
     },
     "execution_count": 1,
     "metadata": {},
     "output_type": "execute_result"
    }
   ],
   "source": [
    "import nltk\n",
    "nltk.download('wordnet')"
   ]
  },
  {
   "cell_type": "code",
   "execution_count": 13,
   "metadata": {},
   "outputs": [
    {
     "name": "stdout",
     "output_type": "stream",
     "text": [
      "intelligence.n.01\n",
      "synonyms: intelligence\n",
      "hypernyms: ability.n.02\n",
      "hyponyms: acuteness.n.02, brain.n.02, breadth.n.01, brightness.n.02, brilliance.n.03, mental_quickness.n.01, mind.n.07, nimbleness.n.01, nonverbal_intelligence.n.01, precociousness.n.01, shrewdness.n.01, verbal_intelligence.n.01, wits.n.01\n",
      "antonyms: stupidity\n",
      "\n",
      "intelligence.n.02\n",
      "synonyms: intelligence, intelligence_service, intelligence_agency\n",
      "hypernyms: administrative_unit.n.01\n",
      "hyponyms: intelligence_community.n.01, international_intelligence_agency.n.01, military_intelligence.n.01, united_states_intelligence_agency.n.01\n",
      "antonyms: \n",
      "\n",
      "intelligence.n.03\n",
      "synonyms: intelligence, intelligence_information\n",
      "hypernyms: information.n.01\n",
      "hyponyms: military_intelligence.n.02\n",
      "antonyms: \n",
      "\n",
      "news.n.01\n",
      "synonyms: news, intelligence, tidings, word\n",
      "hypernyms: information.n.01\n",
      "hyponyms: good_word.n.02, latest.n.01, update.n.01\n",
      "antonyms: \n",
      "\n",
      "intelligence.n.05\n",
      "synonyms: intelligence, intelligence_activity, intelligence_operation\n",
      "hypernyms: information_gathering.n.01\n",
      "hyponyms: clandestine_operation.n.01, counterintelligence.n.01, current_intelligence.n.01, overt_operation.n.01, reconnaissance.n.01, signals_intelligence.n.01, spying.n.02, strategic_intelligence.n.01, tactical_intelligence.n.01\n",
      "antonyms: \n",
      "\n"
     ]
    }
   ],
   "source": [
    "from nltk.corpus import wordnet\n",
    "syns = wordnet.synsets('intelligence')\n",
    "\n",
    "for s in syns:\n",
    "    print(s.name())\n",
    "    synonyms = \", \".join([lem.name() for lem in s.lemmas()]) #동의어\n",
    "    print(\"synonyms: {}\".format(synonyms))\n",
    "    \n",
    "    hypernyms = \", \".join([hypernym.name() for hypernym in s.hypernyms()]) #상위어\n",
    "    print(\"hypernyms: {}\".format(hypernyms))\n",
    "    \n",
    "    hyponyms = \", \".join([hyponym.name() for hyponym in s.hyponyms()]) #하위어\n",
    "    print(\"hyponyms: {}\".format(hyponyms))\n",
    "    \n",
    "    antonyms = \", \".join([antonym.name() for antonym in s.lemmas()[0].antonyms()]) #하위어\n",
    "    print(\"antonyms: {}\".format(antonyms))\n",
    "    print()"
   ]
  },
  {
   "cell_type": "code",
   "execution_count": null,
   "metadata": {},
   "outputs": [],
   "source": []
  }
 ],
 "metadata": {
  "kernelspec": {
   "display_name": "Python 3",
   "language": "python",
   "name": "python3"
  },
  "language_info": {
   "codemirror_mode": {
    "name": "ipython",
    "version": 3
   },
   "file_extension": ".py",
   "mimetype": "text/x-python",
   "name": "python",
   "nbconvert_exporter": "python",
   "pygments_lexer": "ipython3",
   "version": "3.6.8"
  }
 },
 "nbformat": 4,
 "nbformat_minor": 2
}
