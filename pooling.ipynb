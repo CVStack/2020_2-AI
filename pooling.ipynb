{
  "nbformat": 4,
  "nbformat_minor": 0,
  "metadata": {
    "colab": {
      "name": "pooling.ipynb",
      "provenance": [],
      "collapsed_sections": [],
      "authorship_tag": "ABX9TyPer4h/2AJrDR+2n7R2lCYu",
      "include_colab_link": true
    },
    "kernelspec": {
      "name": "python3",
      "display_name": "Python 3"
    }
  },
  "cells": [
    {
      "cell_type": "markdown",
      "metadata": {
        "id": "view-in-github",
        "colab_type": "text"
      },
      "source": [
        "<a href=\"https://colab.research.google.com/github/CVStack/2020_2-AI/blob/master/pooling.ipynb\" target=\"_parent\"><img src=\"https://colab.research.google.com/assets/colab-badge.svg\" alt=\"Open In Colab\"/></a>"
      ]
    },
    {
      "cell_type": "code",
      "metadata": {
        "colab": {
          "base_uri": "https://localhost:8080/"
        },
        "id": "7ve2pAJPKUw2",
        "outputId": "1442eaa3-1e61-425f-e1dd-e90c4e2dea73"
      },
      "source": [
        "import numpy as np\n",
        "\n",
        "def maxPooling(mat, K, L):\n",
        "  M, N = mat.shape\n",
        "  MK = M // K\n",
        "  NL = N // L\n",
        "  pmat = mat[:MK*K, :NL*L].reshape(MK, K, NL, L).max(axis = (1,3))\n",
        "  return pmat\n",
        "\n",
        "mat = np.array([\n",
        "                \n",
        "    [20, 200, -5, 23],\n",
        "    [-13, 134, 119, 100],\n",
        "    [120, 32, 49, 25],\n",
        "    [-120, 12, 9, 23]\n",
        "]\n",
        ")\n",
        "\n",
        "print(maxPooling(mat, 2, 2))"
      ],
      "execution_count": 1,
      "outputs": [
        {
          "output_type": "stream",
          "text": [
            "[[200 119]\n",
            " [120  49]]\n"
          ],
          "name": "stdout"
        }
      ]
    },
    {
      "cell_type": "code",
      "metadata": {
        "id": "ZBGEK4OSKvdh"
      },
      "source": [
        ""
      ],
      "execution_count": null,
      "outputs": []
    }
  ]
}