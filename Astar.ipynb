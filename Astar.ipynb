{
 "cells": [
  {
   "cell_type": "code",
   "execution_count": 4,
   "metadata": {},
   "outputs": [],
   "source": [
    "import numpy as np\n",
    "import heapq\n",
    "import matplotlib.pyplot as plt\n",
    "from matplotlib.pyplot import figure"
   ]
  },
  {
   "cell_type": "code",
   "execution_count": 8,
   "metadata": {},
   "outputs": [],
   "source": [
    "grid = np.array([\n",
    "    [0, 0, 0, 0, 0, 0, 0, 0, 0, 0, 0, 0, 0, 0, 0, 0, 0, 0, 1, 0],\n",
    "    [0, 0, 0, 0, 0, 0, 1, 0, 1, 1, 1, 1, 1, 1, 1, 1, 1, 1, 1, 0],\n",
    "    [0, 0, 0, 0, 0, 0, 1, 0, 1, 0, 0, 1, 0, 0, 0, 0, 0, 0, 0, 0],\n",
    "    [0, 0, 0, 0, 0, 0, 0, 0, 1, 0, 0, 1, 0, 0, 0, 0, 0, 0, 0, 0],\n",
    "    [0, 0, 0, 0, 0, 0, 0, 0, 1, 0, 0, 0, 0, 0, 0, 0, 0, 0, 0, 0],\n",
    "    [0, 0, 0, 1, 1, 1, 0, 0, 1, 0, 0, 0, 0, 0, 0, 0, 0, 0, 0, 0],\n",
    "    [0, 0, 0, 0, 0, 0, 0, 0, 1, 0, 0, 0, 0, 1, 1, 1, 1, 1, 0, 1],\n",
    "    [0, 0, 0, 0, 0, 0, 0, 0, 1, 0, 0, 0, 0, 1, 1, 1, 0, 0, 0, 0],\n",
    "    [0, 0, 0, 0, 0, 0, 0, 0, 1, 0, 0, 0, 0, 1, 1, 1, 0, 0, 0, 0],\n",
    "    [0, 0, 0, 0, 0, 0, 0, 0, 1, 1, 1, 1, 1, 1, 0, 0, 0, 0, 0, 0],\n",
    "    [0, 0, 0, 0, 0, 0, 0, 0, 1, 0, 0, 0, 0, 0, 0, 0, 0, 0, 0, 0],\n",
    "    [1, 1, 1, 1, 1, 0, 0, 0, 1, 0, 0, 0, 0, 0, 0, 0, 1, 1, 1, 1],\n",
    "    [0, 0, 0, 0, 0, 0, 0, 0, 1, 0, 0, 1, 1, 1, 1, 1, 1, 1, 1, 0],\n",
    "    [0, 0, 0, 0, 0, 0, 0, 0, 1, 0, 0, 0, 0, 0, 0, 0, 0, 0, 0, 0],\n",
    "    [0, 0, 0, 0, 0, 0, 0, 0, 1, 1, 1, 1, 1, 1, 0, 1, 1, 1, 0, 0],\n",
    "    [0, 0, 1, 1, 1, 1, 1, 1, 1, 0, 0, 0, 0, 1, 0, 0, 0, 0, 0, 0],\n",
    "    [0, 0, 1, 0, 0, 0, 0, 0, 0, 0, 0, 0, 0, 1, 0, 0, 0, 0, 0, 0],\n",
    "    [0, 0, 1, 0, 0, 0, 0, 0, 0, 0, 0, 0, 0, 1, 0, 0, 0, 0, 0, 0],\n",
    "    [0, 0, 0, 0, 0, 0, 0, 0, 0, 0, 0, 0, 0, 1, 0, 0, 0, 0, 0, 0],\n",
    "    [0, 0, 0, 0, 0, 0, 0, 0, 0, 0, 0, 0, 0, 0, 0, 0, 0, 0, 0, 0]])\n",
    "\n",
    "start = (0,0)\n",
    "goal = (0,19)"
   ]
  },
  {
   "cell_type": "code",
   "execution_count": 6,
   "metadata": {},
   "outputs": [],
   "source": [
    "def heuristic(a, b): #유클리드 거리 계산법\n",
    "    return np.sqrt((b[0] - a[0]) ** 2 + (b[1] - a[1]) ** 2)\n",
    "\n",
    "def Astar(array, start, goal):\n",
    "    nbors = [ #주변 위치에 대한 좌표들\n",
    "        (0,1),\n",
    "        (0,-1),\n",
    "        (1,0),\n",
    "        (-1,0),\n",
    "        (1,1),\n",
    "        (1,-1),\n",
    "        (-1,1),\n",
    "        (-1,-1),\n",
    "    ]\n",
    "    close_set = set()\n",
    "    came_from = {}\n",
    "    gscore = {start:0} # 지난 경로에 대한 score\n",
    "    fscore = {start:heuristic(start, goal)} # 남은 경로에 대한 거리 : 휴리스틱 --> 거리 계산\n",
    "    \n",
    "    oheap = []\n",
    "    heapq.heappush(oheap, (fscore[start], start))\n",
    "    \n",
    "    while oheap:\n",
    "        current = heapq.heappop(oheap)[1] #최소 거리에 있는 노드 get\n",
    "        if current == goal: #현재 노드가 목적지이면\n",
    "            data = []\n",
    "            while current in came_from:\n",
    "                data.append(current) \n",
    "                current = came_from[current]\n",
    "            return data\n",
    "        \n",
    "        close_set.add(current)\n",
    "        for i, j in nbors:\n",
    "            n = current[0] + i , current[1] + j #주변 노드 탐색\n",
    "            if 0 <= n[0] < array.shape[0]: # 주변 노드의 위치가 올바른 범위인지 체크\n",
    "                if 0 <= n[1] < array.shape[1]:\n",
    "                    if array[n[0]][n[1]] == 1:\n",
    "                        continue\n",
    "                else:\n",
    "                    continue\n",
    "            else: \n",
    "                continue\n",
    "            #해당 안되면 건너뜀        \n",
    "            temp_g_score = gscore[current] + heuristic(current, n)\n",
    "            if n in close_set and temp_g_score >= gscore.get(n, 0): #이미 방문을 햇으면서 기존 값보다 더 크면 사용 x\n",
    "                continue #dict.get(key, default value) 해당 key가 없으면 default 값을 return\n",
    "\n",
    "            if temp_g_score < gscore.get(n, 0) or n not in [i[1] for i in oheap]: # 기존 값보다 작거나 방문을 안햇으면 사용\n",
    "                came_from[n] = current\n",
    "                gscore[n] = temp_g_score\n",
    "                fscore[n] = temp_g_score + heuristic(n, goal)\n",
    "                heapq.heappush(oheap, (fscore[n], n))\n",
    "    return False"
   ]
  },
  {
   "cell_type": "code",
   "execution_count": 9,
   "metadata": {},
   "outputs": [
    {
     "name": "stdout",
     "output_type": "stream",
     "text": [
      "경로 : [(0, 0), (1, 1), (2, 1), (3, 2), (4, 2), (5, 2), (6, 3), (7, 4), (8, 5), (9, 5), (10, 5), (11, 5), (12, 4), (13, 3), (14, 2), (15, 1), (16, 1), (17, 1), (18, 2), (18, 3), (18, 4), (18, 5), (18, 6), (18, 7), (18, 8), (18, 9), (18, 10), (18, 11), (18, 12), (19, 13), (18, 14), (17, 14), (16, 14), (15, 14), (14, 14), (13, 13), (13, 12), (13, 11), (12, 10), (11, 11), (10, 12), (10, 13), (9, 14), (9, 15), (8, 16), (7, 17), (6, 18), (5, 18), (4, 18), (3, 18), (2, 18), (1, 19), (0, 19)]\n"
     ]
    },
    {
     "data": {
      "image/png": "[encoded data removed]",
      "text/plain": [
       "<Figure size 864x864 with 1 Axes>"
      ]
     },
     "metadata": {
      "needs_background": "light"
     },
     "output_type": "display_data"
    }
   ],
   "source": [
    "route = Astar(grid, start, goal)\n",
    "route = route + [start] #출발위치 추가\n",
    "route = route[::-1] #역순으로 변환\n",
    "\n",
    "print('경로 :', route)\n",
    "\n",
    "x_coords = []\n",
    "y_coords = []\n",
    "\n",
    "for i in (range(0, len(route))):\n",
    "    x = route[i][0]\n",
    "    y = route[i][1]\n",
    "    x_coords.append(x)\n",
    "    y_coords.append(y)\n",
    "    \n",
    "fig, ax = plt.subplots(figsize=(12,12))\n",
    "ax.imshow(grid, cmap = plt.cm.Pastel1)\n",
    "ax.scatter(start[1], start[0], marker = '*', color = 'red', s = 200)\n",
    "ax.scatter(goal[1], goal[0], marker = '*', color = 'green', s = 200)\n",
    "ax.plot(y_coords, x_coords, color = 'blue')\n",
    "plt.show()"
   ]
  }
 ],
 "metadata": {
  "kernelspec": {
   "display_name": "Python 3",
   "language": "python",
   "name": "python3"
  },
  "language_info": {
   "codemirror_mode": {
    "name": "ipython",
    "version": 3
   },
   "file_extension": ".py",
   "mimetype": "text/x-python",
   "name": "python",
   "nbconvert_exporter": "python",
   "pygments_lexer": "ipython3",
   "version": "3.6.8"
  }
 },
 "nbformat": 4,
 "nbformat_minor": 2
}
